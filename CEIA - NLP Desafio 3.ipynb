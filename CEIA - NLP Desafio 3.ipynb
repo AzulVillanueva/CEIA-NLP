{
  "cells": [
    {
      "cell_type": "markdown",
      "metadata": {
        "id": "g3yeJGnCYxuF"
      },
      "source": [
        "# CEIA - NLP Desafío N°3\n",
        "## Villanueva Cecilia Azul\n"
      ]
    },
    {
      "cell_type": "markdown",
      "metadata": {
        "id": "iX0rgb0PsdVU"
      },
      "source": [
        "# Modelo de lenguaje con tokenización por caracteres"
      ]
    },
    {
      "cell_type": "markdown",
      "metadata": {
        "id": "Iv5PEwGzZA9-"
      },
      "source": [
        "### Consigna\n",
        "- Seleccionar un corpus de texto sobre el cual entrenar el modelo de lenguaje.\n",
        "- Realizar el pre-procesamiento adecuado para tokenizar el corpus, estructurar el dataset y separar entre datos de entrenamiento y validación.\n",
        "- Proponer arquitecturas de redes neuronales basadas en unidades recurrentes para implementar un modelo de lenguaje.\n",
        "- Con el o los modelos que consideren adecuados, generar nuevas secuencias a partir de secuencias de contexto con las estrategias de greedy search y beam search determístico y estocástico. En este último caso observar el efecto de la temperatura en la generación de secuencias.\n",
        "\n",
        "\n",
        "### Sugerencias\n",
        "- Durante el entrenamiento, guiarse por el descenso de la perplejidad en los datos de validación para finalizar el entrenamiento. Para ello se provee un callback.\n",
        "- Explorar utilizar SimpleRNN (celda de Elman), LSTM y GRU.\n",
        "- rmsprop es el optimizador recomendado para la buena convergencia. No obstante se pueden explorar otros.\n"
      ]
    },
    {
      "cell_type": "markdown",
      "metadata": {
        "id": "Ez4yHOkmsdVW"
      },
      "source": [
        "## Librerias y funciones"
      ]
    },
    {
      "cell_type": "code",
      "execution_count": 1,
      "metadata": {
        "id": "Y-QdFbHZYj7C"
      },
      "outputs": [],
      "source": [
        "import random\n",
        "import io\n",
        "import pickle\n",
        "\n",
        "from google.colab import files\n",
        "\n",
        "import numpy as np\n",
        "import pandas as pd\n",
        "import matplotlib.pyplot as plt\n",
        "from sklearn.model_selection import train_test_split\n",
        "\n",
        "from tensorflow import keras\n",
        "from tensorflow.keras import layers\n",
        "from tensorflow.keras.utils import pad_sequences # se utilizará para padding\n",
        "from keras.utils import to_categorical\n",
        "from keras.models import Sequential\n",
        "from keras.layers import Dense, LSTM, Embedding, Dropout\n",
        "from keras.layers import Input, TimeDistributed, CategoryEncoding, SimpleRNN, Dense\n",
        "from keras.models import Model, Sequential\n",
        "from tensorflow.keras.losses import SparseCategoricalCrossentropy\n",
        "from tensorflow.keras.layers import LSTM, GRU, Dense, Dropout, Embedding, Bidirectional\n",
        "\n",
        "import urllib.request # descargar de textos.info\n",
        "import bs4 as bs # Para leer y parsear el texto en HTML de wikipedia\n",
        "\n",
        "import matplotlib.pyplot as plt\n",
        "import seaborn as sns\n",
        "from scipy.special import softmax"
      ]
    },
    {
      "cell_type": "markdown",
      "metadata": {
        "id": "YWK3z85sQfUe"
      },
      "source": [
        "Dado que por el momento no hay implementaciones adecuadas de la perplejidad que puedan operar en tiempo de entrenamiento, armaremos un Callback *ad-hoc* que la calcule en cada epoch.\n",
        "\n",
        "**Nota**: un Callback es una rutina gatillada por algún evento, son muy útiles para relevar datos en diferentes momentos del desarrollo del modelo. En este caso queremos hacer un cálculo cada vez que termina una epoch de entrenamiento."
      ]
    },
    {
      "cell_type": "code",
      "execution_count": 2,
      "metadata": {
        "id": "zUHX3r5JD-MG"
      },
      "outputs": [],
      "source": [
        "class PplCallback(keras.callbacks.Callback):\n",
        "\n",
        "    '''\n",
        "    Este callback es una solución ad-hoc para calcular al final de cada epoch de\n",
        "    entrenamiento la métrica de Perplejidad sobre un conjunto de datos de validación.\n",
        "    La perplejidad es una métrica cuantitativa para evaluar la calidad de la generación de secuencias.\n",
        "    Además implementa la finalización del entrenamiento (Early Stopping)\n",
        "    si la perplejidad no mejora después de `patience` epochs.\n",
        "    '''\n",
        "\n",
        "    def __init__(self, val_data, history_ppl,model_name,patience=5):\n",
        "      # El callback lo inicializamos con secuencias de validación sobre las cuales\n",
        "      # mediremos la perplejidad\n",
        "      self.val_data = val_data\n",
        "\n",
        "      self.target = []\n",
        "      self.padded = []\n",
        "\n",
        "      count = 0\n",
        "      self.info = []\n",
        "      self.history_ppl = history_ppl\n",
        "      self.min_score = np.inf\n",
        "      self.patience_counter = 0\n",
        "      self.patience = patience\n",
        "      self.model_name = model_name\n",
        "\n",
        "      # nos movemos en todas las secuencias de los datos de validación\n",
        "      for seq in self.val_data:\n",
        "\n",
        "        len_seq = len(seq)\n",
        "        # armamos todas las subsecuencias\n",
        "        subseq = [seq[:i] for i in range(1,len_seq)]\n",
        "        self.target.extend([seq[i] for i in range(1,len_seq)])\n",
        "\n",
        "        if len(subseq)!=0:\n",
        "\n",
        "          self.padded.append(pad_sequences(subseq, maxlen=max_context_size, padding='pre'))\n",
        "\n",
        "          self.info.append((count,count+len_seq))\n",
        "          count += len_seq\n",
        "\n",
        "      self.padded = np.vstack(self.padded)\n",
        "\n",
        "\n",
        "    def on_epoch_end(self, epoch, logs=None):\n",
        "\n",
        "        # en `scores` iremos guardando la perplejidad de cada secuencia\n",
        "        scores = []\n",
        "\n",
        "        predictions = self.model.predict(self.padded,verbose=0)\n",
        "\n",
        "        # para cada secuencia de validación\n",
        "        for start,end in self.info:\n",
        "\n",
        "          # en `probs` iremos guardando las probabilidades de los términos target\n",
        "          probs = [predictions[idx_seq,-1,idx_vocab] for idx_seq, idx_vocab in zip(range(start,end),self.target[start:end])]\n",
        "\n",
        "          # calculamos la perplejidad por medio de logaritmos\n",
        "          scores.append(np.exp(-np.sum(np.log(probs))/(end-start)))\n",
        "\n",
        "        # promediamos todos los scores e imprimimos el valor promedio\n",
        "        current_score = np.mean(scores)\n",
        "        self.history_ppl.append(current_score)\n",
        "        print(f'\\n mean perplexity: {current_score} \\n')\n",
        "\n",
        "        # chequeamos si tenemos que detener el entrenamiento\n",
        "        if current_score < self.min_score:\n",
        "          self.min_score = current_score\n",
        "          self.model.save(f'{self.model_name}.keras')\n",
        "          print(\"Saved new model!\")\n",
        "          self.patience_counter = 0\n",
        "        else:\n",
        "          self.patience_counter += 1\n",
        "          if self.patience_counter == self.patience:\n",
        "            print(\"Stopping training...\")\n",
        "            self.model.stop_training = True\n"
      ]
    },
    {
      "cell_type": "code",
      "execution_count": 3,
      "metadata": {
        "id": "bwbS_pfhxvB3"
      },
      "outputs": [],
      "source": [
        "def generate_seq(model, seed_text, max_length, n_words):\n",
        "    \"\"\"\n",
        "        Exec model sequence prediction\n",
        "\n",
        "        Args:\n",
        "            model (keras): modelo entrenado\n",
        "            seed_text (string): texto de entrada (input_seq)\n",
        "            max_length (int): máxima longitud de la sequencia de entrada\n",
        "            n_words (int): números de caracteres a agregar a la sequencia de entrada\n",
        "        returns:\n",
        "            output_text (string): sentencia con las \"n_words\" agregadas\n",
        "    \"\"\"\n",
        "    output_text = seed_text\n",
        "\t# generate a fixed number of words\n",
        "    for _ in range(n_words):\n",
        "\t\t# Encodeamos\n",
        "        encoded = [char2idx[ch] for ch in output_text.lower() ]\n",
        "\t\t# Si tienen distinto largo\n",
        "        encoded = pad_sequences([encoded], maxlen=max_length, padding='pre')\n",
        "\n",
        "\t\t# Predicción softmax\n",
        "        y_hat = np.argmax(model.predict(encoded,verbose=0)[0,-1,:])\n",
        "\t\t# Vamos concatenando las predicciones\n",
        "        out_word = ''\n",
        "\n",
        "        out_word = idx2char[y_hat]\n",
        "\n",
        "\t\t# Agrego las palabras a la frase predicha\n",
        "        output_text += out_word\n",
        "    return output_text"
      ]
    },
    {
      "cell_type": "code",
      "execution_count": 4,
      "metadata": {
        "id": "MbDN8JMfsdVb"
      },
      "outputs": [],
      "source": [
        "def model_response(human_text,model):\n",
        "\n",
        "    # Encodeamos\n",
        "    encoded = [char2idx[ch] for ch in human_text.lower() ]\n",
        "    # Si tienen distinto largo\n",
        "    encoded = pad_sequences([encoded], maxlen=max_context_size, padding='pre')\n",
        "\n",
        "    # Predicción softmax\n",
        "    y_hat = np.argmax(model.predict(encoded)[0,-1,:])\n",
        "\n",
        "\n",
        "    # Debemos buscar en el vocabulario el caracter\n",
        "    # que corresopnde al indice (y_hat) predicho por le modelo\n",
        "    out_word = ''\n",
        "    out_word = idx2char[y_hat]\n",
        "\n",
        "    # Agrego la palabra a la frase predicha\n",
        "    return human_text + out_word"
      ]
    },
    {
      "cell_type": "code",
      "execution_count": 5,
      "metadata": {
        "id": "_vovn9XZW1Hl"
      },
      "outputs": [],
      "source": [
        "# funcionalidades para hacer encoding y decoding\n",
        "\n",
        "def encode(text,max_length):\n",
        "\n",
        "    encoded = [char2idx[ch] for ch in text]\n",
        "    encoded = pad_sequences([encoded], maxlen=max_length, padding='pre')\n",
        "\n",
        "    return encoded\n",
        "\n",
        "def decode(seq):\n",
        "    return ''.join([idx2char[ch] for ch in seq])"
      ]
    },
    {
      "cell_type": "code",
      "execution_count": 6,
      "metadata": {
        "id": "I_lZiQwkW1Hl"
      },
      "outputs": [],
      "source": [
        "# función que selecciona candidatos para el beam search\n",
        "def select_candidates(pred,num_beams,vocab_size,history_probs,history_tokens,temp,mode):\n",
        "\n",
        "  # colectar todas las probabilidades para la siguiente búsqueda\n",
        "  pred_large = []\n",
        "\n",
        "  for idx,pp in enumerate(pred):\n",
        "    pred_large.extend(np.log(pp+1E-10)+history_probs[idx])\n",
        "\n",
        "  pred_large = np.array(pred_large)\n",
        "\n",
        "  # criterio de selección\n",
        "  if mode == 'det':\n",
        "    idx_select = np.argsort(pred_large)[::-1][:num_beams] # beam search determinista\n",
        "  elif mode == 'sto':\n",
        "    idx_select = np.random.choice(np.arange(pred_large.shape[0]), num_beams, p=softmax(pred_large/temp)) # beam search con muestreo aleatorio\n",
        "  else:\n",
        "    raise ValueError(f'Wrong selection mode. {mode} was given. det and sto are supported.')\n",
        "\n",
        "  # traducir a índices de token en el vocabulario\n",
        "  new_history_tokens = np.concatenate((np.array(history_tokens)[idx_select//vocab_size],\n",
        "                        np.array([idx_select%vocab_size]).T),\n",
        "                      axis=1)\n",
        "\n",
        "  # devolver el producto de las probabilidades (log) y la secuencia de tokens seleccionados\n",
        "  return pred_large[idx_select.astype(int)], new_history_tokens.astype(int)\n",
        "\n",
        "def beam_search(model,num_beams,num_words,input,max_length,temp=1,mode='det'):\n",
        "\n",
        "    # first iteration\n",
        "\n",
        "    # encode\n",
        "    encoded = encode(input,max_length)\n",
        "\n",
        "    # first prediction\n",
        "    y_hat = model.predict(encoded,verbose=0)[0,-1,:]\n",
        "\n",
        "    # get vocabulary size\n",
        "    vocab_size = y_hat.shape[0]\n",
        "\n",
        "    # initialize history\n",
        "    history_probs = [0]*num_beams\n",
        "    history_tokens = [encoded[0]]*num_beams\n",
        "\n",
        "    # select num_beams candidates\n",
        "    history_probs, history_tokens = select_candidates([y_hat],\n",
        "                                        num_beams,\n",
        "                                        vocab_size,\n",
        "                                        history_probs,\n",
        "                                        history_tokens,\n",
        "                                        temp,\n",
        "                                        mode)\n",
        "\n",
        "    # beam search loop\n",
        "    for i in range(num_words-1):\n",
        "\n",
        "      preds = []\n",
        "\n",
        "      for hist in history_tokens:\n",
        "\n",
        "        # actualizar secuencia de tokens\n",
        "        input_update = np.array([hist[i+1:]]).copy()\n",
        "\n",
        "        # predicción\n",
        "        y_hat = model.predict(input_update,verbose=0)[0,-1,:]\n",
        "\n",
        "        preds.append(y_hat)\n",
        "\n",
        "      history_probs, history_tokens = select_candidates(preds,\n",
        "                                                        num_beams,\n",
        "                                                        vocab_size,\n",
        "                                                        history_probs,\n",
        "                                                        history_tokens,\n",
        "                                                        temp,\n",
        "                                                        mode)\n",
        "\n",
        "    return history_tokens[:,-(len(input)+num_words):]"
      ]
    },
    {
      "cell_type": "markdown",
      "metadata": {
        "id": "xTvXlEKQZdqx"
      },
      "source": [
        "## Datos\n",
        "Utilizaremos como dataset **Alicia en el pais de las Maravillas de Lewis Carroll**, es una novela fantástica que narra la historia de Alicia, una niña que sigue a un conejo blanco con un reloj en su bolsillo y acaba cayendo por un agujero en el suelo, lo que la lleva a un mundo mágico y surrealista lleno de personajes extraños"
      ]
    },
    {
      "cell_type": "code",
      "execution_count": 7,
      "metadata": {
        "colab": {
          "base_uri": "https://localhost:8080/"
        },
        "id": "6v_ickFwBJTy",
        "outputId": "2204f66c-96cf-4982-9957-8fc9d5c1aa3e"
      },
      "outputs": [
        {
          "output_type": "execute_result",
          "data": {
            "text/plain": [
              "[' en el dorado anochecer',\n",
              " 'bogamos lentamente;',\n",
              " 'los brazos siéntense ceder',\n",
              " 'al remo débilmente.',\n",
              " '¡qué dichoso desfallecer',\n",
              " 'las manos sin oriente! y qué implacable triple voz',\n",
              " 'suena en el dulce olvido',\n",
              " 'pidiendo extrañas invenciones,',\n",
              " 'de quieto y lírico sentido.',\n",
              " '¿cómo callar indiferente',\n",
              " 'sintiendo su latido? dice apremiante la primera',\n",
              " 'voz que comience el cuento,',\n",
              " 'la segunda no nos reclama',\n",
              " 'lógica de argumento,',\n",
              " 'y nos acucia la tercera',\n",
              " 'con anheloso acento. ¡oh, qué silencio más profundo',\n",
              " 'se impone a todo ruido!',\n",
              " 'es la tierra un maravilloso',\n",
              " 'país desconocido,',\n",
              " 'lleno de seres que convierten',\n",
              " 'en real lo fingido. cuando la fuente imaginaria',\n",
              " 'se agota en la inventiva',\n",
              " 'y a los cristales del ensueño',\n",
              " 'la luz se les esquiva:',\n",
              " '«¡siga el cuento —claman los seres—',\n",
              " 'que tanto nos cautiva!» así el país maravilloso',\n",
              " 'sobre el yunque del yo.',\n",
              " 'episodio tras episodio,',\n",
              " 'su leyenda forjó,',\n",
              " 'y al ocaso, un mundo de amigos',\n",
              " 'el alma nos pobló. recibe, alicia, este pueril',\n",
              " 'libro con mano tierna',\n",
              " 'y ponlo allí donde la infancia',\n",
              " 'salva la vida interna,',\n",
              " 'como el ferviente peregrino',\n",
              " 'guarda una flor eterna. alicia empezaba a sentirse cansadísima de estar sentada en un margen,',\n",
              " 'al lado de su hermana, sin saber qué hacer: por dos veces había',\n",
              " 'atisbado el libro que ella leía, pero era un libro sin grabados, sin',\n",
              " 'diálogo, y «¿de qué sirve un libro —se dijo alicia— si no tiene diálogo',\n",
              " 'ni grabados?». y de la mejor manera que le permitían la somnolencia y el',\n",
              " 'atontamiento en que la había sumido el calor de aquella jornada,',\n",
              " 'consideraba en su fuero interno si valdría la pena entretenerse en',\n",
              " 'arrancar margaritas por el gusto de hacer una cadena con ellas, cuando',\n",
              " 'de pronto saltó a su lado un conejo blanco de ojuelos encarnados. no había en ello nada de extraordinario, ni le pareció a alicia cosa',\n",
              " 'fuera de lo corriente, oír que el conejo se dijera a sí mismo: —¡dios mío! ¡dios mío! voy a llegar tarde. cuando lo reflexionara después, comprendería que debía haberse',\n",
              " 'maravillado, pero en tanto le parecía la cosa más natural del mundo; no',\n",
              " 'obstante, viendo que el conejo se sacaba un reloj del bolsillo del',\n",
              " 'chaleco, lo miraba y echaba a correr, alicia se puso en pie, porque',\n",
              " 'enseguida reflexionó que nunca había visto un conejo con chaleco, ni con',\n",
              " 'reloj para saber la hora, y, encendida la curiosidad, se fue corriendo',\n",
              " 'por el campo y llegó a tiempo de ver que el conejo se metía de cabeza en',\n",
              " 'una gran madriguera al pie de una barda. en un instante, alicia se metió detrás de él sin pensar ni remotamente si le sería posible salir. la madriguera empezaba siendo horizontal como un túnel, pero luego se',\n",
              " 'hundía bruscamente, tanto, que alicia no tuvo tiempo de pensar en',\n",
              " 'detenerse, pues se encontró con que se caía por un sitio semejante a un',\n",
              " 'hondo pozo. o el pozo era profundísimo, o ella caía muy despacio, porque, si no',\n",
              " 'había tenido tiempo de pensar en detenerse, en cambio lo tuvo para mirar',\n",
              " 'alrededor y preguntarse qué era lo que iba a suceder. enseguida procuró',\n",
              " 'mirar al suelo, porque quería ver dónde pisaría; pero estaba demasiado',\n",
              " 'oscuro para ver nada. luego miró a las paredes del pozo, y observó que',\n",
              " 'estaban llenas de armarios y de anaqueles de libros; aquí y allá vio',\n",
              " 'algunos mapas y cuadros colgados de unos ganchos. cogió una jarra de uno',\n",
              " 'de los estantes, al pasar; tenía un marbete que decía «mermelada de',\n",
              " 'naranja»; mas, para desencanto suyo, estaba vacía. no le pareció bien',\n",
              " 'arrojarla al fondo por temor de matar a alguien; así es que procuró',\n",
              " 'dejarla en otro de los estantes mientras iba descendiendo. «¡bien —pensó alicia—, después de una caída como esta no hay miedo de',\n",
              " 'rodar por las escaleras! ¡qué valiente me van a encontrar en casa!',\n",
              " '¡como que ni he de quejarme cuando me encuentren, aunque esto sea que me',\n",
              " 'he caído del tejado», cosa que le parecía muy dentro de lo posible. y, en tanto, bajaba, bajaba, bajaba. ¿no acabaría nunca aquel descenso? —¿cuántos kilómetros habré bajado ya? —se preguntó en voz alta—.',\n",
              " 'llegaré a algún sitio cerca del centro de la tierra. a ver: creo que lo',\n",
              " 'menos he corrido hacia abajo seis mil kilómetros. alicia había aprendido algo de eso en las lecciones que daba en el',\n",
              " 'colegio, y por más que no fuera aquella una excelente ocasión para hacer',\n",
              " 'gala de sus conocimientos, ya que nadie podía oírla, le pareció bien',\n",
              " 'hacer un poco de repaso. —sí, ésta es aproximadamente la distancia que he recorrido... pero ¿hacia qué latitud o longitud me encamino? no tenía alicia la menor idea de lo que las palabras latitud y',\n",
              " 'longitud significasen, pero se le antojaba que estaba bien pronunciar',\n",
              " 'vocablos tan bellos y sonoros. pronto volvió a decirse: —¡no sé si estoy cayendo a través de la tierra! ¡qué divertido sería',\n",
              " 'salir por el otro lado, donde la gente anda de cabeza! los',\n",
              " '«antipáticos»; creo que se llaman así. —ahora se alegraba de que nadie',\n",
              " 'la oyera, pues no le sonaba del todo apropiada esa palabra—. pero,',\n",
              " 'claro, bien tendré que preguntarles el nombre de su país. «¿tiene usted',\n",
              " 'la bondad, señora, de decirme si esto es nueva zelanda o australia?» y así pensando, trataba de ensayar cortesías. ¡cortesías, al paso que caía por el espacio! ¿cómo se las compondría? —¡pero qué ignorante iba a parecerle al señor a quien hiciera tal',\n",
              " 'pregunta! no, no es cosa de ir preguntando. acaso lo vea escrito en',\n",
              " 'alguna parte. abajo, abajo, abajo. no cabía hacer otra cosa. así es que alicia pronto reanudó el monólogo: —creo que dina me echará mucho de menos esta noche. —dina era la gata—. me figuro que no se olvidarán de ponerle su platito de leche a la hora de merendar. ¡dina,',\n",
              " 'querida mía, quisiera tenerte aquí, a mi lado! es verdad que en el aire',\n",
              " 'no hay ratones, pero podrías cazar algún murciélago, pues los',\n",
              " 'murciélagos, ¿sabes?, se parecen mucho a los ratones. ahora, que yo no',\n",
              " 'sé si a los gatos les gustan los murciélagos. —y a esto, alicia empezó a',\n",
              " 'adormecerse de una manera extraña, repitiéndose—: ¿comen murciélagos',\n",
              " 'los gatos? ¿comen murciélagos los gatos? —y a veces se equivocaba—:',\n",
              " '¿comen gatos los murciélagos? —porque, ¿comprendéis?, como no podía',\n",
              " 'contestarse, no importaba alterar así la pregunta. empezaba a sentir que',\n",
              " 'se dormía de veras, soñando que paseaba de la mano con dina, e iba diciéndose con viva impaciencia—: ahora, dina,',\n",
              " 'dime la verdad: ¿has comido alguna vez murciélago? —cuando, de pronto,',\n",
              " '¡cataplum!, fue a dar sobre un montón de ramas y hojas secas, donde',\n",
              " 'terminó su viaje por el espacio. no sufrió el menor daño y se puso en pie de un salto. miró hacia',\n",
              " 'arriba, pero allá estaba oscuro; enfrente de ella se extendía otro largo',\n",
              " 'pasillo, y el conejo blanco corría hacia abajo aún al alcance de su vista. no había',\n",
              " 'momento que perder; siguió por allí alicia, ligera como el viento, y',\n",
              " 'todavía llegó a tiempo de oírle decir al volver una esquina: —¡válganme mis orejas y mis bigotes, y qué tarde se me hace! alicia llegó casi al mismo tiempo que el conejo a la esquina, pero él',\n",
              " 'dobló rápidamente y ella le perdió de vista. se encontró sola en una',\n",
              " 'larga sala alumbrada por una hilera de lámparas que colgaban del techo.']"
            ]
          },
          "metadata": {},
          "execution_count": 7
        }
      ],
      "source": [
        "raw_html = urllib.request.urlopen('https://www.textos.info/lewis-carroll/alicia-en-el-pais-de-las-maravillas/ebook')\n",
        "raw_html = raw_html.read()\n",
        "\n",
        "# Parsear artículo, 'lxml' es el parser a utilizar\n",
        "article_html = bs.BeautifulSoup(raw_html, 'lxml')\n",
        "\n",
        "# Encontrar todos los párrafos del HTML (bajo el tag <p>)\n",
        "# y tenerlos disponible como lista\n",
        "article_paragraphs = article_html.find_all('p')\n",
        "\n",
        "article_text = ''\n",
        "\n",
        "for para in article_paragraphs:\n",
        "    article_text += para.text + ' '\n",
        "\n",
        "# pasar todo el texto a minúscula\n",
        "article_text = article_text.lower()\n",
        "\n",
        "# en article text se encuentra el texto de todo el libro\n",
        "article_text[:100]\n",
        "article_text.splitlines()[:100]"
      ]
    },
    {
      "cell_type": "markdown",
      "metadata": {
        "id": "cP1JdiOIKQWi"
      },
      "source": [
        "### Elegir el tamaño del contexto"
      ]
    },
    {
      "cell_type": "code",
      "execution_count": 8,
      "metadata": {
        "id": "m5FeTaGvbDbw"
      },
      "outputs": [],
      "source": [
        "# seleccionamos el tamaño de contexto\n",
        "max_context_size = 200\n",
        "\n",
        "# en este caso el vocabulario es el conjunto único de caracteres que existe en todo el texto\n",
        "chars_vocab = set(article_text)\n",
        "\n",
        "# la longitud de vocabulario de caracteres es:\n",
        "len(chars_vocab)\n",
        "\n",
        "# Construimos los dicionarios que asignan índices a caracteres y viceversa.\n",
        "# El diccionario `char2idx` servirá como tokenizador.\n",
        "char2idx = {k: v for v,k in enumerate(chars_vocab)}\n",
        "idx2char = {v: k for k,v in char2idx.items()}"
      ]
    },
    {
      "cell_type": "markdown",
      "metadata": {
        "id": "2oIUjVU0LB0r"
      },
      "source": [
        "###  Tokenizar"
      ]
    },
    {
      "cell_type": "code",
      "execution_count": 9,
      "metadata": {
        "colab": {
          "base_uri": "https://localhost:8080/"
        },
        "id": "h07G3srdJppo",
        "outputId": "f34a74ec-ac19-4749-a7ee-3250d315283f"
      },
      "outputs": [
        {
          "output_type": "execute_result",
          "data": {
            "text/plain": [
              "[3, 23, 62, 3, 23, 39, 3, 25, 50, 26]"
            ]
          },
          "metadata": {},
          "execution_count": 9
        }
      ],
      "source": [
        "# tokenizamos el texto completo\n",
        "tokenized_text = [char2idx[ch] for ch in article_text]\n",
        "\n",
        "tokenized_text[:10]"
      ]
    },
    {
      "cell_type": "markdown",
      "metadata": {
        "id": "pfpYcaypKcI9"
      },
      "source": [
        "### Organizando y estructurando el dataset"
      ]
    },
    {
      "cell_type": "code",
      "execution_count": 10,
      "metadata": {
        "colab": {
          "base_uri": "https://localhost:8080/"
        },
        "id": "WSSmg9jtKP0T",
        "outputId": "1aa5c92b-81d5-4b99-a4db-6e160b1d8160"
      },
      "outputs": [
        {
          "output_type": "execute_result",
          "data": {
            "text/plain": [
              "67"
            ]
          },
          "metadata": {},
          "execution_count": 10
        }
      ],
      "source": [
        "# separaremos el dataset entre entrenamiento y validación.\n",
        "# `p_val` será la proporción del corpus que se reservará para validación\n",
        "# `num_val` es la cantidad de secuencias de tamaño `max_context_size` que se usará en validación\n",
        "p_val = 0.1\n",
        "\n",
        "num_val = int(np.ceil(len(tokenized_text)*p_val/max_context_size))\n",
        "\n",
        "# separamos la porción de texto utilizada en entrenamiento de la de validación.\n",
        "train_text = tokenized_text[:-num_val*max_context_size]\n",
        "val_text = tokenized_text[-num_val*max_context_size:]\n",
        "\n",
        "tokenized_sentences_val = [val_text[init*max_context_size:init*(max_context_size+1)] for init in range(num_val)]\n",
        "tokenized_sentences_train = [train_text[init:init+max_context_size] for init in range(len(train_text)-max_context_size+1)]\n",
        "\n",
        "X = np.array(tokenized_sentences_train[:-1])\n",
        "y = np.array(tokenized_sentences_train[1:])\n",
        "\n",
        "vocab_size = len(chars_vocab)\n",
        "vocab_size"
      ]
    },
    {
      "cell_type": "markdown",
      "metadata": {
        "id": "AcEqFC1asdVi"
      },
      "source": [
        "## Definición de Modelos y Entrenamiento"
      ]
    },
    {
      "cell_type": "markdown",
      "metadata": {
        "id": "gn-L7L97sdVj"
      },
      "source": [
        "En esta sección se entrenarán los modelos propuestos: SimpleRNN, LSTM y GRU. Se utilizarán los datos de entrenamiento y validación preparados en las celdas previas. El entrenamiento se realizará durante 20 épocas o hasta que la métrica Perplejidad deje de mejorar en los datos de validación (utilizando Early Stopping)"
      ]
    },
    {
      "cell_type": "markdown",
      "metadata": {
        "id": "tnnjdAQ5UAEJ"
      },
      "source": [
        "### Modelo 1 - Simple RNN"
      ]
    },
    {
      "cell_type": "markdown",
      "metadata": {
        "id": "wgz7VKwTUbj6"
      },
      "source": [
        "El modelo que se propone como ejemplo consume los índices de los tokens y los transforma en vectores OHE (en este caso no entrenamos una capa de embedding para caracteres). Esa transformación se logra combinando las capas `CategoryEncoding` que transforma a índices a vectores OHE y `TimeDistributed` que aplica la capa a lo largo de la dimensión \"temporal\" de la secuencia."
      ]
    },
    {
      "cell_type": "code",
      "execution_count": 11,
      "metadata": {
        "colab": {
          "base_uri": "https://localhost:8080/",
          "height": 241
        },
        "id": "BnB6s8oUyMy4",
        "outputId": "e164b47b-eadc-49b3-95b0-ccdfe792f47d"
      },
      "outputs": [
        {
          "output_type": "display_data",
          "data": {
            "text/plain": [
              "\u001b[1mModel: \"sequential\"\u001b[0m\n"
            ],
            "text/html": [
              "<pre style=\"white-space:pre;overflow-x:auto;line-height:normal;font-family:Menlo,'DejaVu Sans Mono',consolas,'Courier New',monospace\"><span style=\"font-weight: bold\">Model: \"sequential\"</span>\n",
              "</pre>\n"
            ]
          },
          "metadata": {}
        },
        {
          "output_type": "display_data",
          "data": {
            "text/plain": [
              "┏━━━━━━━━━━━━━━━━━━━━━━━━━━━━━━━━━┳━━━━━━━━━━━━━━━━━━━━━━━━┳━━━━━━━━━━━━━━━┓\n",
              "┃\u001b[1m \u001b[0m\u001b[1mLayer (type)                   \u001b[0m\u001b[1m \u001b[0m┃\u001b[1m \u001b[0m\u001b[1mOutput Shape          \u001b[0m\u001b[1m \u001b[0m┃\u001b[1m \u001b[0m\u001b[1m      Param #\u001b[0m\u001b[1m \u001b[0m┃\n",
              "┡━━━━━━━━━━━━━━━━━━━━━━━━━━━━━━━━━╇━━━━━━━━━━━━━━━━━━━━━━━━╇━━━━━━━━━━━━━━━┩\n",
              "│ time_distributed                │ (\u001b[38;5;45mNone\u001b[0m, \u001b[38;5;45mNone\u001b[0m, \u001b[38;5;34m67\u001b[0m)       │             \u001b[38;5;34m0\u001b[0m │\n",
              "│ (\u001b[38;5;33mTimeDistributed\u001b[0m)               │                        │               │\n",
              "├─────────────────────────────────┼────────────────────────┼───────────────┤\n",
              "│ simple_rnn (\u001b[38;5;33mSimpleRNN\u001b[0m)          │ (\u001b[38;5;45mNone\u001b[0m, \u001b[38;5;45mNone\u001b[0m, \u001b[38;5;34m200\u001b[0m)      │        \u001b[38;5;34m53,600\u001b[0m │\n",
              "├─────────────────────────────────┼────────────────────────┼───────────────┤\n",
              "│ dense (\u001b[38;5;33mDense\u001b[0m)                   │ (\u001b[38;5;45mNone\u001b[0m, \u001b[38;5;45mNone\u001b[0m, \u001b[38;5;34m67\u001b[0m)       │        \u001b[38;5;34m13,467\u001b[0m │\n",
              "└─────────────────────────────────┴────────────────────────┴───────────────┘\n"
            ],
            "text/html": [
              "<pre style=\"white-space:pre;overflow-x:auto;line-height:normal;font-family:Menlo,'DejaVu Sans Mono',consolas,'Courier New',monospace\">┏━━━━━━━━━━━━━━━━━━━━━━━━━━━━━━━━━┳━━━━━━━━━━━━━━━━━━━━━━━━┳━━━━━━━━━━━━━━━┓\n",
              "┃<span style=\"font-weight: bold\"> Layer (type)                    </span>┃<span style=\"font-weight: bold\"> Output Shape           </span>┃<span style=\"font-weight: bold\">       Param # </span>┃\n",
              "┡━━━━━━━━━━━━━━━━━━━━━━━━━━━━━━━━━╇━━━━━━━━━━━━━━━━━━━━━━━━╇━━━━━━━━━━━━━━━┩\n",
              "│ time_distributed                │ (<span style=\"color: #00d7ff; text-decoration-color: #00d7ff\">None</span>, <span style=\"color: #00d7ff; text-decoration-color: #00d7ff\">None</span>, <span style=\"color: #00af00; text-decoration-color: #00af00\">67</span>)       │             <span style=\"color: #00af00; text-decoration-color: #00af00\">0</span> │\n",
              "│ (<span style=\"color: #0087ff; text-decoration-color: #0087ff\">TimeDistributed</span>)               │                        │               │\n",
              "├─────────────────────────────────┼────────────────────────┼───────────────┤\n",
              "│ simple_rnn (<span style=\"color: #0087ff; text-decoration-color: #0087ff\">SimpleRNN</span>)          │ (<span style=\"color: #00d7ff; text-decoration-color: #00d7ff\">None</span>, <span style=\"color: #00d7ff; text-decoration-color: #00d7ff\">None</span>, <span style=\"color: #00af00; text-decoration-color: #00af00\">200</span>)      │        <span style=\"color: #00af00; text-decoration-color: #00af00\">53,600</span> │\n",
              "├─────────────────────────────────┼────────────────────────┼───────────────┤\n",
              "│ dense (<span style=\"color: #0087ff; text-decoration-color: #0087ff\">Dense</span>)                   │ (<span style=\"color: #00d7ff; text-decoration-color: #00d7ff\">None</span>, <span style=\"color: #00d7ff; text-decoration-color: #00d7ff\">None</span>, <span style=\"color: #00af00; text-decoration-color: #00af00\">67</span>)       │        <span style=\"color: #00af00; text-decoration-color: #00af00\">13,467</span> │\n",
              "└─────────────────────────────────┴────────────────────────┴───────────────┘\n",
              "</pre>\n"
            ]
          },
          "metadata": {}
        },
        {
          "output_type": "display_data",
          "data": {
            "text/plain": [
              "\u001b[1m Total params: \u001b[0m\u001b[38;5;34m67,067\u001b[0m (261.98 KB)\n"
            ],
            "text/html": [
              "<pre style=\"white-space:pre;overflow-x:auto;line-height:normal;font-family:Menlo,'DejaVu Sans Mono',consolas,'Courier New',monospace\"><span style=\"font-weight: bold\"> Total params: </span><span style=\"color: #00af00; text-decoration-color: #00af00\">67,067</span> (261.98 KB)\n",
              "</pre>\n"
            ]
          },
          "metadata": {}
        },
        {
          "output_type": "display_data",
          "data": {
            "text/plain": [
              "\u001b[1m Trainable params: \u001b[0m\u001b[38;5;34m67,067\u001b[0m (261.98 KB)\n"
            ],
            "text/html": [
              "<pre style=\"white-space:pre;overflow-x:auto;line-height:normal;font-family:Menlo,'DejaVu Sans Mono',consolas,'Courier New',monospace\"><span style=\"font-weight: bold\"> Trainable params: </span><span style=\"color: #00af00; text-decoration-color: #00af00\">67,067</span> (261.98 KB)\n",
              "</pre>\n"
            ]
          },
          "metadata": {}
        },
        {
          "output_type": "display_data",
          "data": {
            "text/plain": [
              "\u001b[1m Non-trainable params: \u001b[0m\u001b[38;5;34m0\u001b[0m (0.00 B)\n"
            ],
            "text/html": [
              "<pre style=\"white-space:pre;overflow-x:auto;line-height:normal;font-family:Menlo,'DejaVu Sans Mono',consolas,'Courier New',monospace\"><span style=\"font-weight: bold\"> Non-trainable params: </span><span style=\"color: #00af00; text-decoration-color: #00af00\">0</span> (0.00 B)\n",
              "</pre>\n"
            ]
          },
          "metadata": {}
        }
      ],
      "source": [
        "model_simpleRNN = Sequential([\n",
        "    Input(shape=(None, 1)),\n",
        "    TimeDistributed(CategoryEncoding(num_tokens=vocab_size, output_mode=\"one_hot\")),\n",
        "    SimpleRNN(200, return_sequences=True, dropout=0.1, recurrent_dropout=0.1),\n",
        "    Dense(vocab_size, activation='softmax')\n",
        "])\n",
        "\n",
        "# Compilar el modelo\n",
        "model_simpleRNN.compile(loss='sparse_categorical_crossentropy', optimizer='rmsprop')\n",
        "model_simpleRNN.summary()"
      ]
    },
    {
      "cell_type": "markdown",
      "metadata": {
        "id": "8HBZIwR0gruA"
      },
      "source": [
        "#### Entrenamiento"
      ]
    },
    {
      "cell_type": "code",
      "execution_count": 12,
      "metadata": {
        "colab": {
          "base_uri": "https://localhost:8080/"
        },
        "id": "oQq1PHDkxDvN",
        "outputId": "011892b9-fc18-4fb1-c80e-df5d6dae3b44"
      },
      "outputs": [
        {
          "output_type": "stream",
          "name": "stdout",
          "text": [
            "Epoch 1/20\n",
            "\u001b[1m546/546\u001b[0m \u001b[32m━━━━━━━━━━━━━━━━━━━━\u001b[0m\u001b[37m\u001b[0m \u001b[1m0s\u001b[0m 37ms/step - loss: 2.6456\n",
            " mean perplexity: 8.270489692687988 \n",
            "\n",
            "Saved new model!\n",
            "\u001b[1m546/546\u001b[0m \u001b[32m━━━━━━━━━━━━━━━━━━━━\u001b[0m\u001b[37m\u001b[0m \u001b[1m56s\u001b[0m 75ms/step - loss: 2.6451\n",
            "Epoch 2/20\n",
            "\u001b[1m545/546\u001b[0m \u001b[32m━━━━━━━━━━━━━━━━━━━\u001b[0m\u001b[37m━\u001b[0m \u001b[1m0s\u001b[0m 27ms/step - loss: 2.0632\n",
            " mean perplexity: 7.635226726531982 \n",
            "\n",
            "Saved new model!\n",
            "\u001b[1m546/546\u001b[0m \u001b[32m━━━━━━━━━━━━━━━━━━━━\u001b[0m\u001b[37m\u001b[0m \u001b[1m51s\u001b[0m 29ms/step - loss: 2.0631\n",
            "Epoch 3/20\n",
            "\u001b[1m544/546\u001b[0m \u001b[32m━━━━━━━━━━━━━━━━━━━\u001b[0m\u001b[37m━\u001b[0m \u001b[1m0s\u001b[0m 28ms/step - loss: 1.9183\n",
            " mean perplexity: 7.3489274978637695 \n",
            "\n",
            "Saved new model!\n",
            "\u001b[1m546/546\u001b[0m \u001b[32m━━━━━━━━━━━━━━━━━━━━\u001b[0m\u001b[37m\u001b[0m \u001b[1m21s\u001b[0m 29ms/step - loss: 1.9182\n",
            "Epoch 4/20\n",
            "\u001b[1m545/546\u001b[0m \u001b[32m━━━━━━━━━━━━━━━━━━━\u001b[0m\u001b[37m━\u001b[0m \u001b[1m0s\u001b[0m 28ms/step - loss: 1.8296\n",
            " mean perplexity: 7.2633795738220215 \n",
            "\n",
            "Saved new model!\n",
            "\u001b[1m546/546\u001b[0m \u001b[32m━━━━━━━━━━━━━━━━━━━━\u001b[0m\u001b[37m\u001b[0m \u001b[1m16s\u001b[0m 29ms/step - loss: 1.8296\n",
            "Epoch 5/20\n",
            "\u001b[1m545/546\u001b[0m \u001b[32m━━━━━━━━━━━━━━━━━━━\u001b[0m\u001b[37m━\u001b[0m \u001b[1m0s\u001b[0m 28ms/step - loss: 1.7717\n",
            " mean perplexity: 7.2733354568481445 \n",
            "\n",
            "\u001b[1m546/546\u001b[0m \u001b[32m━━━━━━━━━━━━━━━━━━━━\u001b[0m\u001b[37m\u001b[0m \u001b[1m16s\u001b[0m 30ms/step - loss: 1.7717\n",
            "Epoch 6/20\n",
            "\u001b[1m545/546\u001b[0m \u001b[32m━━━━━━━━━━━━━━━━━━━\u001b[0m\u001b[37m━\u001b[0m \u001b[1m0s\u001b[0m 28ms/step - loss: 1.7325\n",
            " mean perplexity: 7.378464698791504 \n",
            "\n",
            "\u001b[1m546/546\u001b[0m \u001b[32m━━━━━━━━━━━━━━━━━━━━\u001b[0m\u001b[37m\u001b[0m \u001b[1m16s\u001b[0m 30ms/step - loss: 1.7325\n",
            "Epoch 7/20\n",
            "\u001b[1m545/546\u001b[0m \u001b[32m━━━━━━━━━━━━━━━━━━━\u001b[0m\u001b[37m━\u001b[0m \u001b[1m0s\u001b[0m 28ms/step - loss: 1.7049\n",
            " mean perplexity: 7.416677951812744 \n",
            "\n",
            "\u001b[1m546/546\u001b[0m \u001b[32m━━━━━━━━━━━━━━━━━━━━\u001b[0m\u001b[37m\u001b[0m \u001b[1m16s\u001b[0m 29ms/step - loss: 1.7048\n",
            "Epoch 8/20\n",
            "\u001b[1m544/546\u001b[0m \u001b[32m━━━━━━━━━━━━━━━━━━━\u001b[0m\u001b[37m━\u001b[0m \u001b[1m0s\u001b[0m 28ms/step - loss: 1.6830\n",
            " mean perplexity: 7.530808925628662 \n",
            "\n",
            "\u001b[1m546/546\u001b[0m \u001b[32m━━━━━━━━━━━━━━━━━━━━\u001b[0m\u001b[37m\u001b[0m \u001b[1m21s\u001b[0m 30ms/step - loss: 1.6830\n",
            "Epoch 9/20\n",
            "\u001b[1m545/546\u001b[0m \u001b[32m━━━━━━━━━━━━━━━━━━━\u001b[0m\u001b[37m━\u001b[0m \u001b[1m0s\u001b[0m 28ms/step - loss: 1.6669\n",
            " mean perplexity: 7.619283676147461 \n",
            "\n",
            "Stopping training...\n",
            "\u001b[1m546/546\u001b[0m \u001b[32m━━━━━━━━━━━━━━━━━━━━\u001b[0m\u001b[37m\u001b[0m \u001b[1m17s\u001b[0m 31ms/step - loss: 1.6669\n"
          ]
        }
      ],
      "source": [
        "history_ppl_sRNN= []\n",
        "hist_simpleRNN = model_simpleRNN.fit(X, y, epochs=20, callbacks=[PplCallback(tokenized_sentences_val,history_ppl_sRNN,model_name='model_simpleRNN')], batch_size=256)"
      ]
    },
    {
      "cell_type": "code",
      "execution_count": 13,
      "metadata": {
        "id": "gkOiZV4EsdVl",
        "colab": {
          "base_uri": "https://localhost:8080/",
          "height": 17
        },
        "outputId": "7b369254-6c9c-4e40-cf6f-0d0f9738926d"
      },
      "outputs": [
        {
          "output_type": "display_data",
          "data": {
            "text/plain": [
              "<IPython.core.display.Javascript object>"
            ],
            "application/javascript": [
              "\n",
              "    async function download(id, filename, size) {\n",
              "      if (!google.colab.kernel.accessAllowed) {\n",
              "        return;\n",
              "      }\n",
              "      const div = document.createElement('div');\n",
              "      const label = document.createElement('label');\n",
              "      label.textContent = `Downloading \"${filename}\": `;\n",
              "      div.appendChild(label);\n",
              "      const progress = document.createElement('progress');\n",
              "      progress.max = size;\n",
              "      div.appendChild(progress);\n",
              "      document.body.appendChild(div);\n",
              "\n",
              "      const buffers = [];\n",
              "      let downloaded = 0;\n",
              "\n",
              "      const channel = await google.colab.kernel.comms.open(id);\n",
              "      // Send a message to notify the kernel that we're ready.\n",
              "      channel.send({})\n",
              "\n",
              "      for await (const message of channel.messages) {\n",
              "        // Send a message to notify the kernel that we're ready.\n",
              "        channel.send({})\n",
              "        if (message.buffers) {\n",
              "          for (const buffer of message.buffers) {\n",
              "            buffers.push(buffer);\n",
              "            downloaded += buffer.byteLength;\n",
              "            progress.value = downloaded;\n",
              "          }\n",
              "        }\n",
              "      }\n",
              "      const blob = new Blob(buffers, {type: 'application/binary'});\n",
              "      const a = document.createElement('a');\n",
              "      a.href = window.URL.createObjectURL(blob);\n",
              "      a.download = filename;\n",
              "      div.appendChild(a);\n",
              "      a.click();\n",
              "      div.remove();\n",
              "    }\n",
              "  "
            ]
          },
          "metadata": {}
        },
        {
          "output_type": "display_data",
          "data": {
            "text/plain": [
              "<IPython.core.display.Javascript object>"
            ],
            "application/javascript": [
              "download(\"download_992e9070-cdf5-45d1-98dc-fa1c4439e9d4\", \"model_simpleRNN.keras\", 563183)"
            ]
          },
          "metadata": {}
        }
      ],
      "source": [
        "# Guarda el modelo completo\n",
        "model_simpleRNN.save(\"model_simpleRNN.keras\")\n",
        "files.download(\"model_simpleRNN.keras\")"
      ]
    },
    {
      "cell_type": "code",
      "execution_count": 15,
      "metadata": {
        "id": "EeRFqWn9ZNHN",
        "colab": {
          "base_uri": "https://localhost:8080/",
          "height": 452
        },
        "outputId": "9b427ea1-235c-40bd-9ef2-7e79295f0481"
      },
      "outputs": [
        {
          "output_type": "display_data",
          "data": {
            "text/plain": [
              "<Figure size 640x480 with 1 Axes>"
            ],
            "image/png": "[encoded data removed]"
          },
          "metadata": {}
        }
      ],
      "source": [
        "# Entrenamiento\n",
        "epoch_count = range(1, len(history_ppl_sRNN) + 1)\n",
        "sns.lineplot(x=epoch_count,  y=history_ppl_sRNN, label='Perplejidad', color='blue')\n",
        "plt.title('Perplejidad del modelo simpleRNN')\n",
        "plt.show()"
      ]
    },
    {
      "cell_type": "markdown",
      "metadata": {
        "id": "XIFFHFGzsdVl"
      },
      "source": [
        "### Modelo 2 - LSTM"
      ]
    },
    {
      "cell_type": "code",
      "execution_count": 35,
      "metadata": {
        "colab": {
          "base_uri": "https://localhost:8080/",
          "height": 241
        },
        "id": "mzsJZ0N8wtrJ",
        "outputId": "2d3ab55d-981d-497c-8d5b-bcb50d709467"
      },
      "outputs": [
        {
          "output_type": "display_data",
          "data": {
            "text/plain": [
              "\u001b[1mModel: \"sequential_1\"\u001b[0m\n"
            ],
            "text/html": [
              "<pre style=\"white-space:pre;overflow-x:auto;line-height:normal;font-family:Menlo,'DejaVu Sans Mono',consolas,'Courier New',monospace\"><span style=\"font-weight: bold\">Model: \"sequential_1\"</span>\n",
              "</pre>\n"
            ]
          },
          "metadata": {}
        },
        {
          "output_type": "display_data",
          "data": {
            "text/plain": [
              "┏━━━━━━━━━━━━━━━━━━━━━━━━━━━━━━━━━┳━━━━━━━━━━━━━━━━━━━━━━━━┳━━━━━━━━━━━━━━━┓\n",
              "┃\u001b[1m \u001b[0m\u001b[1mLayer (type)                   \u001b[0m\u001b[1m \u001b[0m┃\u001b[1m \u001b[0m\u001b[1mOutput Shape          \u001b[0m\u001b[1m \u001b[0m┃\u001b[1m \u001b[0m\u001b[1m      Param #\u001b[0m\u001b[1m \u001b[0m┃\n",
              "┡━━━━━━━━━━━━━━━━━━━━━━━━━━━━━━━━━╇━━━━━━━━━━━━━━━━━━━━━━━━╇━━━━━━━━━━━━━━━┩\n",
              "│ time_distributed_1              │ (\u001b[38;5;45mNone\u001b[0m, \u001b[38;5;45mNone\u001b[0m, \u001b[38;5;34m67\u001b[0m)       │             \u001b[38;5;34m0\u001b[0m │\n",
              "│ (\u001b[38;5;33mTimeDistributed\u001b[0m)               │                        │               │\n",
              "├─────────────────────────────────┼────────────────────────┼───────────────┤\n",
              "│ lstm (\u001b[38;5;33mLSTM\u001b[0m)                     │ (\u001b[38;5;45mNone\u001b[0m, \u001b[38;5;45mNone\u001b[0m, \u001b[38;5;34m100\u001b[0m)      │        \u001b[38;5;34m67,200\u001b[0m │\n",
              "├─────────────────────────────────┼────────────────────────┼───────────────┤\n",
              "│ dense_1 (\u001b[38;5;33mDense\u001b[0m)                 │ (\u001b[38;5;45mNone\u001b[0m, \u001b[38;5;45mNone\u001b[0m, \u001b[38;5;34m67\u001b[0m)       │         \u001b[38;5;34m6,767\u001b[0m │\n",
              "└─────────────────────────────────┴────────────────────────┴───────────────┘\n"
            ],
            "text/html": [
              "<pre style=\"white-space:pre;overflow-x:auto;line-height:normal;font-family:Menlo,'DejaVu Sans Mono',consolas,'Courier New',monospace\">┏━━━━━━━━━━━━━━━━━━━━━━━━━━━━━━━━━┳━━━━━━━━━━━━━━━━━━━━━━━━┳━━━━━━━━━━━━━━━┓\n",
              "┃<span style=\"font-weight: bold\"> Layer (type)                    </span>┃<span style=\"font-weight: bold\"> Output Shape           </span>┃<span style=\"font-weight: bold\">       Param # </span>┃\n",
              "┡━━━━━━━━━━━━━━━━━━━━━━━━━━━━━━━━━╇━━━━━━━━━━━━━━━━━━━━━━━━╇━━━━━━━━━━━━━━━┩\n",
              "│ time_distributed_1              │ (<span style=\"color: #00d7ff; text-decoration-color: #00d7ff\">None</span>, <span style=\"color: #00d7ff; text-decoration-color: #00d7ff\">None</span>, <span style=\"color: #00af00; text-decoration-color: #00af00\">67</span>)       │             <span style=\"color: #00af00; text-decoration-color: #00af00\">0</span> │\n",
              "│ (<span style=\"color: #0087ff; text-decoration-color: #0087ff\">TimeDistributed</span>)               │                        │               │\n",
              "├─────────────────────────────────┼────────────────────────┼───────────────┤\n",
              "│ lstm (<span style=\"color: #0087ff; text-decoration-color: #0087ff\">LSTM</span>)                     │ (<span style=\"color: #00d7ff; text-decoration-color: #00d7ff\">None</span>, <span style=\"color: #00d7ff; text-decoration-color: #00d7ff\">None</span>, <span style=\"color: #00af00; text-decoration-color: #00af00\">100</span>)      │        <span style=\"color: #00af00; text-decoration-color: #00af00\">67,200</span> │\n",
              "├─────────────────────────────────┼────────────────────────┼───────────────┤\n",
              "│ dense_1 (<span style=\"color: #0087ff; text-decoration-color: #0087ff\">Dense</span>)                 │ (<span style=\"color: #00d7ff; text-decoration-color: #00d7ff\">None</span>, <span style=\"color: #00d7ff; text-decoration-color: #00d7ff\">None</span>, <span style=\"color: #00af00; text-decoration-color: #00af00\">67</span>)       │         <span style=\"color: #00af00; text-decoration-color: #00af00\">6,767</span> │\n",
              "└─────────────────────────────────┴────────────────────────┴───────────────┘\n",
              "</pre>\n"
            ]
          },
          "metadata": {}
        },
        {
          "output_type": "display_data",
          "data": {
            "text/plain": [
              "\u001b[1m Total params: \u001b[0m\u001b[38;5;34m73,967\u001b[0m (288.93 KB)\n"
            ],
            "text/html": [
              "<pre style=\"white-space:pre;overflow-x:auto;line-height:normal;font-family:Menlo,'DejaVu Sans Mono',consolas,'Courier New',monospace\"><span style=\"font-weight: bold\"> Total params: </span><span style=\"color: #00af00; text-decoration-color: #00af00\">73,967</span> (288.93 KB)\n",
              "</pre>\n"
            ]
          },
          "metadata": {}
        },
        {
          "output_type": "display_data",
          "data": {
            "text/plain": [
              "\u001b[1m Trainable params: \u001b[0m\u001b[38;5;34m73,967\u001b[0m (288.93 KB)\n"
            ],
            "text/html": [
              "<pre style=\"white-space:pre;overflow-x:auto;line-height:normal;font-family:Menlo,'DejaVu Sans Mono',consolas,'Courier New',monospace\"><span style=\"font-weight: bold\"> Trainable params: </span><span style=\"color: #00af00; text-decoration-color: #00af00\">73,967</span> (288.93 KB)\n",
              "</pre>\n"
            ]
          },
          "metadata": {}
        },
        {
          "output_type": "display_data",
          "data": {
            "text/plain": [
              "\u001b[1m Non-trainable params: \u001b[0m\u001b[38;5;34m0\u001b[0m (0.00 B)\n"
            ],
            "text/html": [
              "<pre style=\"white-space:pre;overflow-x:auto;line-height:normal;font-family:Menlo,'DejaVu Sans Mono',consolas,'Courier New',monospace\"><span style=\"font-weight: bold\"> Non-trainable params: </span><span style=\"color: #00af00; text-decoration-color: #00af00\">0</span> (0.00 B)\n",
              "</pre>\n"
            ]
          },
          "metadata": {}
        }
      ],
      "source": [
        "# Modelo basado en LSTM\n",
        "model_LSTM = Sequential([\n",
        "    Input(shape=(None, 1)),  # Define la entrada aquí\n",
        "    TimeDistributed(CategoryEncoding(num_tokens=vocab_size, output_mode=\"one_hot\")),\n",
        "    LSTM(100, return_sequences=True, dropout=0.1, recurrent_dropout=0.1),\n",
        "    Dense(vocab_size, activation='softmax')\n",
        "])\n",
        "\n",
        "# Compilar el modelo\n",
        "model_LSTM.compile(loss='sparse_categorical_crossentropy', optimizer='rmsprop')\n",
        "model_LSTM.summary()"
      ]
    },
    {
      "cell_type": "markdown",
      "metadata": {
        "id": "lZ8sC04gsdVo"
      },
      "source": [
        "#### Entrenamiento"
      ]
    },
    {
      "cell_type": "code",
      "execution_count": 36,
      "metadata": {
        "colab": {
          "base_uri": "https://localhost:8080/"
        },
        "id": "wmE75N7bsdVq",
        "outputId": "f4604eeb-e5c8-4752-a93e-eb9d2ca94408"
      },
      "outputs": [
        {
          "output_type": "stream",
          "name": "stdout",
          "text": [
            "Epoch 1/20\n",
            "\u001b[1m546/546\u001b[0m \u001b[32m━━━━━━━━━━━━━━━━━━━━\u001b[0m\u001b[37m\u001b[0m \u001b[1m0s\u001b[0m 536ms/step - loss: 3.0384\n",
            " mean perplexity: 11.701746940612793 \n",
            "\n",
            "Saved new model!\n",
            "\u001b[1m546/546\u001b[0m \u001b[32m━━━━━━━━━━━━━━━━━━━━\u001b[0m\u001b[37m\u001b[0m \u001b[1m322s\u001b[0m 567ms/step - loss: 3.0380\n",
            "Epoch 2/20\n",
            "\u001b[1m546/546\u001b[0m \u001b[32m━━━━━━━━━━━━━━━━━━━━\u001b[0m\u001b[37m\u001b[0m \u001b[1m0s\u001b[0m 527ms/step - loss: 2.4021\n",
            " mean perplexity: 10.019065856933594 \n",
            "\n",
            "Saved new model!\n",
            "\u001b[1m546/546\u001b[0m \u001b[32m━━━━━━━━━━━━━━━━━━━━\u001b[0m\u001b[37m\u001b[0m \u001b[1m298s\u001b[0m 546ms/step - loss: 2.4020\n",
            "Epoch 3/20\n",
            "\u001b[1m546/546\u001b[0m \u001b[32m━━━━━━━━━━━━━━━━━━━━\u001b[0m\u001b[37m\u001b[0m \u001b[1m0s\u001b[0m 531ms/step - loss: 2.2594\n",
            " mean perplexity: 9.349327087402344 \n",
            "\n",
            "Saved new model!\n",
            "\u001b[1m546/546\u001b[0m \u001b[32m━━━━━━━━━━━━━━━━━━━━\u001b[0m\u001b[37m\u001b[0m \u001b[1m300s\u001b[0m 550ms/step - loss: 2.2594\n",
            "Epoch 4/20\n",
            "\u001b[1m546/546\u001b[0m \u001b[32m━━━━━━━━━━━━━━━━━━━━\u001b[0m\u001b[37m\u001b[0m \u001b[1m0s\u001b[0m 529ms/step - loss: 2.1908\n",
            " mean perplexity: 8.966565132141113 \n",
            "\n",
            "Saved new model!\n",
            "\u001b[1m546/546\u001b[0m \u001b[32m━━━━━━━━━━━━━━━━━━━━\u001b[0m\u001b[37m\u001b[0m \u001b[1m309s\u001b[0m 566ms/step - loss: 2.1907\n",
            "Epoch 5/20\n",
            "\u001b[1m546/546\u001b[0m \u001b[32m━━━━━━━━━━━━━━━━━━━━\u001b[0m\u001b[37m\u001b[0m \u001b[1m0s\u001b[0m 525ms/step - loss: 2.1339\n",
            " mean perplexity: 8.563987731933594 \n",
            "\n",
            "Saved new model!\n",
            "\u001b[1m546/546\u001b[0m \u001b[32m━━━━━━━━━━━━━━━━━━━━\u001b[0m\u001b[37m\u001b[0m \u001b[1m310s\u001b[0m 544ms/step - loss: 2.1339\n",
            "Epoch 6/20\n",
            "\u001b[1m546/546\u001b[0m \u001b[32m━━━━━━━━━━━━━━━━━━━━\u001b[0m\u001b[37m\u001b[0m \u001b[1m0s\u001b[0m 526ms/step - loss: 2.0892\n",
            " mean perplexity: 8.346855163574219 \n",
            "\n",
            "Saved new model!\n",
            "\u001b[1m546/546\u001b[0m \u001b[32m━━━━━━━━━━━━━━━━━━━━\u001b[0m\u001b[37m\u001b[0m \u001b[1m298s\u001b[0m 545ms/step - loss: 2.0892\n",
            "Epoch 7/20\n",
            "\u001b[1m546/546\u001b[0m \u001b[32m━━━━━━━━━━━━━━━━━━━━\u001b[0m\u001b[37m\u001b[0m \u001b[1m0s\u001b[0m 524ms/step - loss: 2.0524\n",
            " mean perplexity: 8.15841293334961 \n",
            "\n",
            "Saved new model!\n",
            "\u001b[1m546/546\u001b[0m \u001b[32m━━━━━━━━━━━━━━━━━━━━\u001b[0m\u001b[37m\u001b[0m \u001b[1m320s\u001b[0m 542ms/step - loss: 2.0524\n",
            "Epoch 8/20\n",
            "\u001b[1m546/546\u001b[0m \u001b[32m━━━━━━━━━━━━━━━━━━━━\u001b[0m\u001b[37m\u001b[0m \u001b[1m0s\u001b[0m 524ms/step - loss: 2.0203\n",
            " mean perplexity: 8.042612075805664 \n",
            "\n",
            "Saved new model!\n",
            "\u001b[1m546/546\u001b[0m \u001b[32m━━━━━━━━━━━━━━━━━━━━\u001b[0m\u001b[37m\u001b[0m \u001b[1m323s\u001b[0m 543ms/step - loss: 2.0203\n",
            "Epoch 9/20\n",
            "\u001b[1m546/546\u001b[0m \u001b[32m━━━━━━━━━━━━━━━━━━━━\u001b[0m\u001b[37m\u001b[0m \u001b[1m0s\u001b[0m 524ms/step - loss: 1.9929\n",
            " mean perplexity: 7.880000114440918 \n",
            "\n",
            "Saved new model!\n",
            "\u001b[1m546/546\u001b[0m \u001b[32m━━━━━━━━━━━━━━━━━━━━\u001b[0m\u001b[37m\u001b[0m \u001b[1m322s\u001b[0m 544ms/step - loss: 1.9929\n",
            "Epoch 10/20\n",
            "\u001b[1m546/546\u001b[0m \u001b[32m━━━━━━━━━━━━━━━━━━━━\u001b[0m\u001b[37m\u001b[0m \u001b[1m0s\u001b[0m 526ms/step - loss: 1.9682\n",
            " mean perplexity: 7.8077192306518555 \n",
            "\n",
            "Saved new model!\n",
            "\u001b[1m546/546\u001b[0m \u001b[32m━━━━━━━━━━━━━━━━━━━━\u001b[0m\u001b[37m\u001b[0m \u001b[1m323s\u001b[0m 545ms/step - loss: 1.9682\n",
            "Epoch 11/20\n",
            "\u001b[1m546/546\u001b[0m \u001b[32m━━━━━━━━━━━━━━━━━━━━\u001b[0m\u001b[37m\u001b[0m \u001b[1m0s\u001b[0m 527ms/step - loss: 1.9444\n",
            " mean perplexity: 7.679819107055664 \n",
            "\n",
            "Saved new model!\n",
            "\u001b[1m546/546\u001b[0m \u001b[32m━━━━━━━━━━━━━━━━━━━━\u001b[0m\u001b[37m\u001b[0m \u001b[1m322s\u001b[0m 546ms/step - loss: 1.9444\n",
            "Epoch 12/20\n",
            "\u001b[1m546/546\u001b[0m \u001b[32m━━━━━━━━━━━━━━━━━━━━\u001b[0m\u001b[37m\u001b[0m \u001b[1m0s\u001b[0m 528ms/step - loss: 1.9248\n",
            " mean perplexity: 7.609797477722168 \n",
            "\n",
            "Saved new model!\n",
            "\u001b[1m546/546\u001b[0m \u001b[32m━━━━━━━━━━━━━━━━━━━━\u001b[0m\u001b[37m\u001b[0m \u001b[1m322s\u001b[0m 547ms/step - loss: 1.9248\n",
            "Epoch 13/20\n",
            "\u001b[1m546/546\u001b[0m \u001b[32m━━━━━━━━━━━━━━━━━━━━\u001b[0m\u001b[37m\u001b[0m \u001b[1m0s\u001b[0m 529ms/step - loss: 1.9067\n",
            " mean perplexity: 7.5700459480285645 \n",
            "\n",
            "Saved new model!\n",
            "\u001b[1m546/546\u001b[0m \u001b[32m━━━━━━━━━━━━━━━━━━━━\u001b[0m\u001b[37m\u001b[0m \u001b[1m333s\u001b[0m 567ms/step - loss: 1.9067\n",
            "Epoch 14/20\n",
            "\u001b[1m546/546\u001b[0m \u001b[32m━━━━━━━━━━━━━━━━━━━━\u001b[0m\u001b[37m\u001b[0m \u001b[1m0s\u001b[0m 529ms/step - loss: 1.8898\n",
            " mean perplexity: 7.5463762283325195 \n",
            "\n",
            "Saved new model!\n",
            "\u001b[1m546/546\u001b[0m \u001b[32m━━━━━━━━━━━━━━━━━━━━\u001b[0m\u001b[37m\u001b[0m \u001b[1m298s\u001b[0m 547ms/step - loss: 1.8897\n",
            "Epoch 15/20\n",
            "\u001b[1m546/546\u001b[0m \u001b[32m━━━━━━━━━━━━━━━━━━━━\u001b[0m\u001b[37m\u001b[0m \u001b[1m0s\u001b[0m 523ms/step - loss: 1.8745\n",
            " mean perplexity: 7.474860668182373 \n",
            "\n",
            "Saved new model!\n",
            "\u001b[1m546/546\u001b[0m \u001b[32m━━━━━━━━━━━━━━━━━━━━\u001b[0m\u001b[37m\u001b[0m \u001b[1m319s\u001b[0m 542ms/step - loss: 1.8745\n",
            "Epoch 16/20\n",
            "\u001b[1m546/546\u001b[0m \u001b[32m━━━━━━━━━━━━━━━━━━━━\u001b[0m\u001b[37m\u001b[0m \u001b[1m0s\u001b[0m 526ms/step - loss: 1.8605\n",
            " mean perplexity: 7.4513020515441895 \n",
            "\n",
            "Saved new model!\n",
            "\u001b[1m546/546\u001b[0m \u001b[32m━━━━━━━━━━━━━━━━━━━━\u001b[0m\u001b[37m\u001b[0m \u001b[1m297s\u001b[0m 544ms/step - loss: 1.8605\n",
            "Epoch 17/20\n",
            "\u001b[1m546/546\u001b[0m \u001b[32m━━━━━━━━━━━━━━━━━━━━\u001b[0m\u001b[37m\u001b[0m \u001b[1m0s\u001b[0m 525ms/step - loss: 1.8484\n",
            " mean perplexity: 7.41274881362915 \n",
            "\n",
            "Saved new model!\n",
            "\u001b[1m546/546\u001b[0m \u001b[32m━━━━━━━━━━━━━━━━━━━━\u001b[0m\u001b[37m\u001b[0m \u001b[1m298s\u001b[0m 544ms/step - loss: 1.8484\n",
            "Epoch 18/20\n",
            "\u001b[1m546/546\u001b[0m \u001b[32m━━━━━━━━━━━━━━━━━━━━\u001b[0m\u001b[37m\u001b[0m \u001b[1m0s\u001b[0m 527ms/step - loss: 1.8368\n",
            " mean perplexity: 7.40347146987915 \n",
            "\n",
            "Saved new model!\n",
            "\u001b[1m546/546\u001b[0m \u001b[32m━━━━━━━━━━━━━━━━━━━━\u001b[0m\u001b[37m\u001b[0m \u001b[1m323s\u001b[0m 546ms/step - loss: 1.8368\n",
            "Epoch 19/20\n",
            "\u001b[1m546/546\u001b[0m \u001b[32m━━━━━━━━━━━━━━━━━━━━\u001b[0m\u001b[37m\u001b[0m \u001b[1m0s\u001b[0m 520ms/step - loss: 1.8262\n",
            " mean perplexity: 7.341955184936523 \n",
            "\n",
            "Saved new model!\n",
            "\u001b[1m546/546\u001b[0m \u001b[32m━━━━━━━━━━━━━━━━━━━━\u001b[0m\u001b[37m\u001b[0m \u001b[1m305s\u001b[0m 558ms/step - loss: 1.8262\n",
            "Epoch 20/20\n",
            "\u001b[1m546/546\u001b[0m \u001b[32m━━━━━━━━━━━━━━━━━━━━\u001b[0m\u001b[37m\u001b[0m \u001b[1m0s\u001b[0m 523ms/step - loss: 1.8151\n",
            " mean perplexity: 7.358667373657227 \n",
            "\n",
            "\u001b[1m546/546\u001b[0m \u001b[32m━━━━━━━━━━━━━━━━━━━━\u001b[0m\u001b[37m\u001b[0m \u001b[1m313s\u001b[0m 542ms/step - loss: 1.8151\n"
          ]
        }
      ],
      "source": [
        "history_ppl_LSTM = []\n",
        "hist_LSTM = model_LSTM.fit(X, y, epochs=20, callbacks=[PplCallback(tokenized_sentences_val,history_ppl_LSTM,model_name='model_LSTM')], batch_size=256)"
      ]
    },
    {
      "cell_type": "code",
      "execution_count": 37,
      "metadata": {
        "id": "kDkA22bWsdVr"
      },
      "outputs": [],
      "source": [
        "# Guarda el modelo completo\n",
        "#model_simpleRNN.save(\"model_simpleRNN.keras\")\n",
        "#files.download(\"model_LSTM.keras\")"
      ]
    },
    {
      "cell_type": "code",
      "execution_count": 38,
      "metadata": {
        "colab": {
          "base_uri": "https://localhost:8080/",
          "height": 452
        },
        "id": "03222yPJsdVs",
        "outputId": "8f2224d4-dcff-4cc7-d257-797486485883"
      },
      "outputs": [
        {
          "output_type": "display_data",
          "data": {
            "text/plain": [
              "<Figure size 640x480 with 1 Axes>"
            ],
            "image/png": "[encoded data removed]"
          },
          "metadata": {}
        }
      ],
      "source": [
        "# Entrenamiento\n",
        "epoch_count = range(1, len(history_ppl_LSTM) + 1)\n",
        "sns.lineplot(x=epoch_count,  y=history_ppl_LSTM, label='Perplejidad', color='blue')\n",
        "plt.title('Perplejidad del modelo LSTM')\n",
        "plt.show()"
      ]
    },
    {
      "cell_type": "markdown",
      "metadata": {
        "id": "MCbNy1xssdVt"
      },
      "source": [
        "#### Entrenamiento"
      ]
    },
    {
      "cell_type": "markdown",
      "metadata": {
        "id": "VWaovhiosdVw"
      },
      "source": [
        "### Modelo 3 - GRU"
      ]
    },
    {
      "cell_type": "code",
      "execution_count": 53,
      "metadata": {
        "colab": {
          "base_uri": "https://localhost:8080/",
          "height": 241
        },
        "id": "oCBrET_JzyQv",
        "outputId": "23166ed1-c71e-4400-b964-8d75fb7b6894"
      },
      "outputs": [
        {
          "output_type": "display_data",
          "data": {
            "text/plain": [
              "\u001b[1mModel: \"sequential_2\"\u001b[0m\n"
            ],
            "text/html": [
              "<pre style=\"white-space:pre;overflow-x:auto;line-height:normal;font-family:Menlo,'DejaVu Sans Mono',consolas,'Courier New',monospace\"><span style=\"font-weight: bold\">Model: \"sequential_2\"</span>\n",
              "</pre>\n"
            ]
          },
          "metadata": {}
        },
        {
          "output_type": "display_data",
          "data": {
            "text/plain": [
              "┏━━━━━━━━━━━━━━━━━━━━━━━━━━━━━━━━━┳━━━━━━━━━━━━━━━━━━━━━━━━┳━━━━━━━━━━━━━━━┓\n",
              "┃\u001b[1m \u001b[0m\u001b[1mLayer (type)                   \u001b[0m\u001b[1m \u001b[0m┃\u001b[1m \u001b[0m\u001b[1mOutput Shape          \u001b[0m\u001b[1m \u001b[0m┃\u001b[1m \u001b[0m\u001b[1m      Param #\u001b[0m\u001b[1m \u001b[0m┃\n",
              "┡━━━━━━━━━━━━━━━━━━━━━━━━━━━━━━━━━╇━━━━━━━━━━━━━━━━━━━━━━━━╇━━━━━━━━━━━━━━━┩\n",
              "│ time_distributed_2              │ (\u001b[38;5;45mNone\u001b[0m, \u001b[38;5;45mNone\u001b[0m, \u001b[38;5;34m67\u001b[0m)       │             \u001b[38;5;34m0\u001b[0m │\n",
              "│ (\u001b[38;5;33mTimeDistributed\u001b[0m)               │                        │               │\n",
              "├─────────────────────────────────┼────────────────────────┼───────────────┤\n",
              "│ gru (\u001b[38;5;33mGRU\u001b[0m)                       │ (\u001b[38;5;45mNone\u001b[0m, \u001b[38;5;45mNone\u001b[0m, \u001b[38;5;34m100\u001b[0m)      │        \u001b[38;5;34m50,700\u001b[0m │\n",
              "├─────────────────────────────────┼────────────────────────┼───────────────┤\n",
              "│ dense_2 (\u001b[38;5;33mDense\u001b[0m)                 │ (\u001b[38;5;45mNone\u001b[0m, \u001b[38;5;45mNone\u001b[0m, \u001b[38;5;34m67\u001b[0m)       │         \u001b[38;5;34m6,767\u001b[0m │\n",
              "└─────────────────────────────────┴────────────────────────┴───────────────┘\n"
            ],
            "text/html": [
              "<pre style=\"white-space:pre;overflow-x:auto;line-height:normal;font-family:Menlo,'DejaVu Sans Mono',consolas,'Courier New',monospace\">┏━━━━━━━━━━━━━━━━━━━━━━━━━━━━━━━━━┳━━━━━━━━━━━━━━━━━━━━━━━━┳━━━━━━━━━━━━━━━┓\n",
              "┃<span style=\"font-weight: bold\"> Layer (type)                    </span>┃<span style=\"font-weight: bold\"> Output Shape           </span>┃<span style=\"font-weight: bold\">       Param # </span>┃\n",
              "┡━━━━━━━━━━━━━━━━━━━━━━━━━━━━━━━━━╇━━━━━━━━━━━━━━━━━━━━━━━━╇━━━━━━━━━━━━━━━┩\n",
              "│ time_distributed_2              │ (<span style=\"color: #00d7ff; text-decoration-color: #00d7ff\">None</span>, <span style=\"color: #00d7ff; text-decoration-color: #00d7ff\">None</span>, <span style=\"color: #00af00; text-decoration-color: #00af00\">67</span>)       │             <span style=\"color: #00af00; text-decoration-color: #00af00\">0</span> │\n",
              "│ (<span style=\"color: #0087ff; text-decoration-color: #0087ff\">TimeDistributed</span>)               │                        │               │\n",
              "├─────────────────────────────────┼────────────────────────┼───────────────┤\n",
              "│ gru (<span style=\"color: #0087ff; text-decoration-color: #0087ff\">GRU</span>)                       │ (<span style=\"color: #00d7ff; text-decoration-color: #00d7ff\">None</span>, <span style=\"color: #00d7ff; text-decoration-color: #00d7ff\">None</span>, <span style=\"color: #00af00; text-decoration-color: #00af00\">100</span>)      │        <span style=\"color: #00af00; text-decoration-color: #00af00\">50,700</span> │\n",
              "├─────────────────────────────────┼────────────────────────┼───────────────┤\n",
              "│ dense_2 (<span style=\"color: #0087ff; text-decoration-color: #0087ff\">Dense</span>)                 │ (<span style=\"color: #00d7ff; text-decoration-color: #00d7ff\">None</span>, <span style=\"color: #00d7ff; text-decoration-color: #00d7ff\">None</span>, <span style=\"color: #00af00; text-decoration-color: #00af00\">67</span>)       │         <span style=\"color: #00af00; text-decoration-color: #00af00\">6,767</span> │\n",
              "└─────────────────────────────────┴────────────────────────┴───────────────┘\n",
              "</pre>\n"
            ]
          },
          "metadata": {}
        },
        {
          "output_type": "display_data",
          "data": {
            "text/plain": [
              "\u001b[1m Total params: \u001b[0m\u001b[38;5;34m57,467\u001b[0m (224.48 KB)\n"
            ],
            "text/html": [
              "<pre style=\"white-space:pre;overflow-x:auto;line-height:normal;font-family:Menlo,'DejaVu Sans Mono',consolas,'Courier New',monospace\"><span style=\"font-weight: bold\"> Total params: </span><span style=\"color: #00af00; text-decoration-color: #00af00\">57,467</span> (224.48 KB)\n",
              "</pre>\n"
            ]
          },
          "metadata": {}
        },
        {
          "output_type": "display_data",
          "data": {
            "text/plain": [
              "\u001b[1m Trainable params: \u001b[0m\u001b[38;5;34m57,467\u001b[0m (224.48 KB)\n"
            ],
            "text/html": [
              "<pre style=\"white-space:pre;overflow-x:auto;line-height:normal;font-family:Menlo,'DejaVu Sans Mono',consolas,'Courier New',monospace\"><span style=\"font-weight: bold\"> Trainable params: </span><span style=\"color: #00af00; text-decoration-color: #00af00\">57,467</span> (224.48 KB)\n",
              "</pre>\n"
            ]
          },
          "metadata": {}
        },
        {
          "output_type": "display_data",
          "data": {
            "text/plain": [
              "\u001b[1m Non-trainable params: \u001b[0m\u001b[38;5;34m0\u001b[0m (0.00 B)\n"
            ],
            "text/html": [
              "<pre style=\"white-space:pre;overflow-x:auto;line-height:normal;font-family:Menlo,'DejaVu Sans Mono',consolas,'Courier New',monospace\"><span style=\"font-weight: bold\"> Non-trainable params: </span><span style=\"color: #00af00; text-decoration-color: #00af00\">0</span> (0.00 B)\n",
              "</pre>\n"
            ]
          },
          "metadata": {}
        }
      ],
      "source": [
        "#Modelo GRU\n",
        "model_GRU = Sequential([\n",
        "    Input(shape=(None, 1)),\n",
        "    TimeDistributed(CategoryEncoding(num_tokens=vocab_size, output_mode=\"one_hot\")),\n",
        "    GRU(100, return_sequences=True, dropout=0.1, recurrent_dropout=0.1),\n",
        "    Dense(vocab_size, activation='softmax')\n",
        "])\n",
        "\n",
        "# Compilar el modelo\n",
        "model_GRU.compile(loss='sparse_categorical_crossentropy', optimizer='rmsprop')\n",
        "model_GRU.summary()"
      ]
    },
    {
      "cell_type": "markdown",
      "metadata": {
        "id": "DpCi9yaTsdVw"
      },
      "source": [
        "#### Entrenamiento"
      ]
    },
    {
      "cell_type": "code",
      "execution_count": 54,
      "metadata": {
        "id": "H6YknAApsdVx",
        "colab": {
          "base_uri": "https://localhost:8080/"
        },
        "outputId": "b9beee67-4778-426f-e01b-12641347a6fc"
      },
      "outputs": [
        {
          "output_type": "stream",
          "name": "stdout",
          "text": [
            "Epoch 1/20\n",
            "\u001b[1m546/546\u001b[0m \u001b[32m━━━━━━━━━━━━━━━━━━━━\u001b[0m\u001b[37m\u001b[0m \u001b[1m0s\u001b[0m 504ms/step - loss: 2.8673\n",
            " mean perplexity: 9.048359870910645 \n",
            "\n",
            "Saved new model!\n",
            "\u001b[1m546/546\u001b[0m \u001b[32m━━━━━━━━━━━━━━━━━━━━\u001b[0m\u001b[37m\u001b[0m \u001b[1m306s\u001b[0m 541ms/step - loss: 2.8667\n",
            "Epoch 2/20\n",
            "\u001b[1m546/546\u001b[0m \u001b[32m━━━━━━━━━━━━━━━━━━━━\u001b[0m\u001b[37m\u001b[0m \u001b[1m0s\u001b[0m 504ms/step - loss: 2.1249\n",
            " mean perplexity: 8.163392066955566 \n",
            "\n",
            "Saved new model!\n",
            "\u001b[1m546/546\u001b[0m \u001b[32m━━━━━━━━━━━━━━━━━━━━\u001b[0m\u001b[37m\u001b[0m \u001b[1m321s\u001b[0m 542ms/step - loss: 2.1249\n",
            "Epoch 3/20\n",
            "\u001b[1m546/546\u001b[0m \u001b[32m━━━━━━━━━━━━━━━━━━━━\u001b[0m\u001b[37m\u001b[0m \u001b[1m0s\u001b[0m 500ms/step - loss: 1.9665\n",
            " mean perplexity: 7.8784027099609375 \n",
            "\n",
            "Saved new model!\n",
            "\u001b[1m546/546\u001b[0m \u001b[32m━━━━━━━━━━━━━━━━━━━━\u001b[0m\u001b[37m\u001b[0m \u001b[1m294s\u001b[0m 538ms/step - loss: 1.9664\n",
            "Epoch 4/20\n",
            "\u001b[1m546/546\u001b[0m \u001b[32m━━━━━━━━━━━━━━━━━━━━\u001b[0m\u001b[37m\u001b[0m \u001b[1m0s\u001b[0m 499ms/step - loss: 1.8672\n",
            " mean perplexity: 7.760318756103516 \n",
            "\n",
            "Saved new model!\n",
            "\u001b[1m546/546\u001b[0m \u001b[32m━━━━━━━━━━━━━━━━━━━━\u001b[0m\u001b[37m\u001b[0m \u001b[1m322s\u001b[0m 537ms/step - loss: 1.8672\n",
            "Epoch 5/20\n",
            "\u001b[1m546/546\u001b[0m \u001b[32m━━━━━━━━━━━━━━━━━━━━\u001b[0m\u001b[37m\u001b[0m \u001b[1m0s\u001b[0m 502ms/step - loss: 1.7989\n",
            " mean perplexity: 7.71732759475708 \n",
            "\n",
            "Saved new model!\n",
            "\u001b[1m546/546\u001b[0m \u001b[32m━━━━━━━━━━━━━━━━━━━━\u001b[0m\u001b[37m\u001b[0m \u001b[1m294s\u001b[0m 539ms/step - loss: 1.7989\n",
            "Epoch 6/20\n",
            "\u001b[1m546/546\u001b[0m \u001b[32m━━━━━━━━━━━━━━━━━━━━\u001b[0m\u001b[37m\u001b[0m \u001b[1m0s\u001b[0m 499ms/step - loss: 1.7492\n",
            " mean perplexity: 7.642153263092041 \n",
            "\n",
            "Saved new model!\n",
            "\u001b[1m546/546\u001b[0m \u001b[32m━━━━━━━━━━━━━━━━━━━━\u001b[0m\u001b[37m\u001b[0m \u001b[1m320s\u001b[0m 536ms/step - loss: 1.7491\n",
            "Epoch 7/20\n",
            "\u001b[1m546/546\u001b[0m \u001b[32m━━━━━━━━━━━━━━━━━━━━\u001b[0m\u001b[37m\u001b[0m \u001b[1m0s\u001b[0m 504ms/step - loss: 1.7102\n",
            " mean perplexity: 7.645860195159912 \n",
            "\n",
            "\u001b[1m546/546\u001b[0m \u001b[32m━━━━━━━━━━━━━━━━━━━━\u001b[0m\u001b[37m\u001b[0m \u001b[1m325s\u001b[0m 541ms/step - loss: 1.7102\n",
            "Epoch 8/20\n",
            "\u001b[1m546/546\u001b[0m \u001b[32m━━━━━━━━━━━━━━━━━━━━\u001b[0m\u001b[37m\u001b[0m \u001b[1m0s\u001b[0m 499ms/step - loss: 1.6799\n",
            " mean perplexity: 7.500208854675293 \n",
            "\n",
            "Saved new model!\n",
            "\u001b[1m546/546\u001b[0m \u001b[32m━━━━━━━━━━━━━━━━━━━━\u001b[0m\u001b[37m\u001b[0m \u001b[1m319s\u001b[0m 537ms/step - loss: 1.6799\n",
            "Epoch 9/20\n",
            "\u001b[1m546/546\u001b[0m \u001b[32m━━━━━━━━━━━━━━━━━━━━\u001b[0m\u001b[37m\u001b[0m \u001b[1m0s\u001b[0m 499ms/step - loss: 1.6550\n",
            " mean perplexity: 7.489933013916016 \n",
            "\n",
            "Saved new model!\n",
            "\u001b[1m546/546\u001b[0m \u001b[32m━━━━━━━━━━━━━━━━━━━━\u001b[0m\u001b[37m\u001b[0m \u001b[1m312s\u001b[0m 519ms/step - loss: 1.6550\n",
            "Epoch 10/20\n",
            "\u001b[1m546/546\u001b[0m \u001b[32m━━━━━━━━━━━━━━━━━━━━\u001b[0m\u001b[37m\u001b[0m \u001b[1m0s\u001b[0m 502ms/step - loss: 1.6334\n",
            " mean perplexity: 7.451681137084961 \n",
            "\n",
            "Saved new model!\n",
            "\u001b[1m546/546\u001b[0m \u001b[32m━━━━━━━━━━━━━━━━━━━━\u001b[0m\u001b[37m\u001b[0m \u001b[1m324s\u001b[0m 523ms/step - loss: 1.6334\n",
            "Epoch 11/20\n",
            "\u001b[1m546/546\u001b[0m \u001b[32m━━━━━━━━━━━━━━━━━━━━\u001b[0m\u001b[37m\u001b[0m \u001b[1m0s\u001b[0m 498ms/step - loss: 1.6145\n",
            " mean perplexity: 7.4288153648376465 \n",
            "\n",
            "Saved new model!\n",
            "\u001b[1m546/546\u001b[0m \u001b[32m━━━━━━━━━━━━━━━━━━━━\u001b[0m\u001b[37m\u001b[0m \u001b[1m329s\u001b[0m 536ms/step - loss: 1.6145\n",
            "Epoch 12/20\n",
            "\u001b[1m546/546\u001b[0m \u001b[32m━━━━━━━━━━━━━━━━━━━━\u001b[0m\u001b[37m\u001b[0m \u001b[1m0s\u001b[0m 495ms/step - loss: 1.5991\n",
            " mean perplexity: 7.435652732849121 \n",
            "\n",
            "\u001b[1m546/546\u001b[0m \u001b[32m━━━━━━━━━━━━━━━━━━━━\u001b[0m\u001b[37m\u001b[0m \u001b[1m282s\u001b[0m 515ms/step - loss: 1.5991\n",
            "Epoch 13/20\n",
            "\u001b[1m546/546\u001b[0m \u001b[32m━━━━━━━━━━━━━━━━━━━━\u001b[0m\u001b[37m\u001b[0m \u001b[1m0s\u001b[0m 496ms/step - loss: 1.5851\n",
            " mean perplexity: 7.479208469390869 \n",
            "\n",
            "\u001b[1m546/546\u001b[0m \u001b[32m━━━━━━━━━━━━━━━━━━━━\u001b[0m\u001b[37m\u001b[0m \u001b[1m291s\u001b[0m 533ms/step - loss: 1.5851\n",
            "Epoch 14/20\n",
            "\u001b[1m546/546\u001b[0m \u001b[32m━━━━━━━━━━━━━━━━━━━━\u001b[0m\u001b[37m\u001b[0m \u001b[1m0s\u001b[0m 493ms/step - loss: 1.5731\n",
            " mean perplexity: 7.5330095291137695 \n",
            "\n",
            "\u001b[1m546/546\u001b[0m \u001b[32m━━━━━━━━━━━━━━━━━━━━\u001b[0m\u001b[37m\u001b[0m \u001b[1m310s\u001b[0m 512ms/step - loss: 1.5731\n",
            "Epoch 15/20\n",
            "\u001b[1m546/546\u001b[0m \u001b[32m━━━━━━━━━━━━━━━━━━━━\u001b[0m\u001b[37m\u001b[0m \u001b[1m0s\u001b[0m 490ms/step - loss: 1.5624\n",
            " mean perplexity: 7.564218044281006 \n",
            "\n",
            "\u001b[1m546/546\u001b[0m \u001b[32m━━━━━━━━━━━━━━━━━━━━\u001b[0m\u001b[37m\u001b[0m \u001b[1m330s\u001b[0m 527ms/step - loss: 1.5624\n",
            "Epoch 16/20\n",
            "\u001b[1m546/546\u001b[0m \u001b[32m━━━━━━━━━━━━━━━━━━━━\u001b[0m\u001b[37m\u001b[0m \u001b[1m0s\u001b[0m 490ms/step - loss: 1.5528\n",
            " mean perplexity: 7.605101585388184 \n",
            "\n",
            "Stopping training...\n",
            "\u001b[1m546/546\u001b[0m \u001b[32m━━━━━━━━━━━━━━━━━━━━\u001b[0m\u001b[37m\u001b[0m \u001b[1m312s\u001b[0m 510ms/step - loss: 1.5528\n"
          ]
        }
      ],
      "source": [
        "history_ppl_GRU = []\n",
        "hist_GRU = model_GRU.fit(X, y, epochs=20, callbacks=[PplCallback(tokenized_sentences_val,history_ppl_GRU,model_name='model_GRU')], batch_size=256)"
      ]
    },
    {
      "cell_type": "code",
      "execution_count": 55,
      "metadata": {
        "id": "wbgD_njAsdVx",
        "colab": {
          "base_uri": "https://localhost:8080/",
          "height": 17
        },
        "outputId": "29a0116d-0005-4712-8b53-fd44c8a8c2f6"
      },
      "outputs": [
        {
          "data": {
            "application/javascript": [
              "\n",
              "    async function download(id, filename, size) {\n",
              "      if (!google.colab.kernel.accessAllowed) {\n",
              "        return;\n",
              "      }\n",
              "      const div = document.createElement('div');\n",
              "      const label = document.createElement('label');\n",
              "      label.textContent = `Downloading \"${filename}\": `;\n",
              "      div.appendChild(label);\n",
              "      const progress = document.createElement('progress');\n",
              "      progress.max = size;\n",
              "      div.appendChild(progress);\n",
              "      document.body.appendChild(div);\n",
              "\n",
              "      const buffers = [];\n",
              "      let downloaded = 0;\n",
              "\n",
              "      const channel = await google.colab.kernel.comms.open(id);\n",
              "      // Send a message to notify the kernel that we're ready.\n",
              "      channel.send({})\n",
              "\n",
              "      for await (const message of channel.messages) {\n",
              "        // Send a message to notify the kernel that we're ready.\n",
              "        channel.send({})\n",
              "        if (message.buffers) {\n",
              "          for (const buffer of message.buffers) {\n",
              "            buffers.push(buffer);\n",
              "            downloaded += buffer.byteLength;\n",
              "            progress.value = downloaded;\n",
              "          }\n",
              "        }\n",
              "      }\n",
              "      const blob = new Blob(buffers, {type: 'application/binary'});\n",
              "      const a = document.createElement('a');\n",
              "      a.href = window.URL.createObjectURL(blob);\n",
              "      a.download = filename;\n",
              "      div.appendChild(a);\n",
              "      a.click();\n",
              "      div.remove();\n",
              "    }\n",
              "  "
            ],
            "text/plain": [
              "<IPython.core.display.Javascript object>"
            ]
          },
          "metadata": {},
          "output_type": "display_data"
        },
        {
          "data": {
            "application/javascript": [
              "download(\"download_76babbd9-7dc4-4c83-a4a9-723237ada8fe\", \"model_GRU.keras\", 486451)"
            ],
            "text/plain": [
              "<IPython.core.display.Javascript object>"
            ]
          },
          "metadata": {},
          "output_type": "display_data"
        }
      ],
      "source": [
        "# Guarda el modelo completo\n",
        "#model_GRU.save(\"model_GRU.keras\")\n",
        "#files.download(\"model_GRU.keras\")"
      ]
    },
    {
      "cell_type": "code",
      "execution_count": 56,
      "metadata": {
        "id": "WfHrz_qqsdVx",
        "colab": {
          "base_uri": "https://localhost:8080/",
          "height": 452
        },
        "outputId": "d3df0239-db3a-48e5-a913-4a0c6b099c35"
      },
      "outputs": [
        {
          "output_type": "display_data",
          "data": {
            "text/plain": [
              "<Figure size 640x480 with 1 Axes>"
            ],
            "image/png": "[encoded data removed]"
          },
          "metadata": {}
        }
      ],
      "source": [
        "# Entrenamiento\n",
        "epoch_count = range(1, len(history_ppl_GRU) + 1)\n",
        "sns.lineplot(x=epoch_count,  y=history_ppl_GRU, label='Perplejidad', color='blue')\n",
        "plt.title('Perplejidad del modelo GRU')\n",
        "plt.show()"
      ]
    },
    {
      "cell_type": "markdown",
      "metadata": {
        "id": "uArhgKwzsdVy"
      },
      "source": [
        "## Resultados Entrenamiento"
      ]
    },
    {
      "cell_type": "markdown",
      "metadata": {
        "id": "chVq4rAQsdVy"
      },
      "source": [
        "Se puede observar que SimpleRNN llegó a mejores resultados en cuanto a perplejidad.\n",
        "\n",
        "Sin embargo, tanto para LSTM como para GRU se podría llegar a mejores resultados aún agregando épocas o ajustando hiperparámetros.\n",
        "\n",
        "Debido a los costos de entrenamiento (complejidad computacional) se limitaron estas pruebas."
      ]
    },
    {
      "cell_type": "markdown",
      "metadata": {
        "id": "KN6Fg_BsxJe6"
      },
      "source": [
        "\n",
        "## Predicción del próximo caracter"
      ]
    },
    {
      "cell_type": "code",
      "execution_count": null,
      "metadata": {
        "id": "Rhy5hZN38qfO"
      },
      "outputs": [],
      "source": [
        "# Cargamos el mejor modelo guardado del entrenamiento para hacer inferencia\n",
        "model_simpleRNN = keras.models.load_model('model_simpleRNN.keras')\n",
        "model_LSTM = keras.models.load_model('model_LSTM.keras')\n",
        "model_emb_LSTM = keras.models.load_model('model_emb_LSTM.keras')\n",
        "model_GRU= keras.models.load_model('model_GRU.keras')"
      ]
    },
    {
      "cell_type": "markdown",
      "metadata": {
        "id": "-c9vYU5-sdVz"
      },
      "source": [
        "Haremos la predicción del próximo caracter sobre la siguiente oración:\n",
        "\n",
        "**\"en un instante, alicia se metió detrás de él sin pensar ni remotamente si le sería posible salir\"**"
      ]
    },
    {
      "cell_type": "code",
      "execution_count": 16,
      "metadata": {
        "id": "zdfxIgiVsdVz"
      },
      "outputs": [],
      "source": [
        "text=\"en un instante, alicia se metió detrás de él sin pensar ni remotamente si le sería posible sali\""
      ]
    },
    {
      "cell_type": "code",
      "execution_count": 17,
      "metadata": {
        "id": "UE-ZzCr2sdVz",
        "colab": {
          "base_uri": "https://localhost:8080/"
        },
        "outputId": "2fcd5813-6f2d-4ec7-9d77-8a862ff4ae03"
      },
      "outputs": [
        {
          "output_type": "stream",
          "name": "stdout",
          "text": [
            "\u001b[1m1/1\u001b[0m \u001b[32m━━━━━━━━━━━━━━━━━━━━\u001b[0m\u001b[37m\u001b[0m \u001b[1m4s\u001b[0m 4s/step\n",
            "Modelo Simple RNN: en un instante, alicia se metió detrás de él sin pensar ni remotamente si le sería posible salir\n"
          ]
        }
      ],
      "source": [
        "print(f'Modelo Simple RNN: {model_response(text,model_simpleRNN)}')"
      ]
    },
    {
      "cell_type": "code",
      "source": [
        "print(f'Modelo LSTM: {model_response(text,model_LSTM)}')"
      ],
      "metadata": {
        "id": "5ouymbGEp4QQ",
        "colab": {
          "base_uri": "https://localhost:8080/"
        },
        "outputId": "d64ce908-1147-4d2a-db92-3ffc3aedea2d"
      },
      "execution_count": 39,
      "outputs": [
        {
          "output_type": "stream",
          "name": "stdout",
          "text": [
            "\u001b[1m1/1\u001b[0m \u001b[32m━━━━━━━━━━━━━━━━━━━━\u001b[0m\u001b[37m\u001b[0m \u001b[1m0s\u001b[0m 170ms/step\n",
            "Modelo LSTM: en un instante, alicia se metió detrás de él sin pensar ni remotamente si le sería posible salir\n"
          ]
        }
      ]
    },
    {
      "cell_type": "code",
      "source": [
        "print(f'Modelo GRU: {model_response(text,model_GRU)}')"
      ],
      "metadata": {
        "id": "hQKEd4-Sp32b",
        "colab": {
          "base_uri": "https://localhost:8080/"
        },
        "outputId": "777e935e-c46e-4161-8370-289b684e9ace"
      },
      "execution_count": 57,
      "outputs": [
        {
          "output_type": "stream",
          "name": "stdout",
          "text": [
            "\u001b[1m1/1\u001b[0m \u001b[32m━━━━━━━━━━━━━━━━━━━━\u001b[0m\u001b[37m\u001b[0m \u001b[1m0s\u001b[0m 138ms/step\n",
            "Modelo GRU: en un instante, alicia se metió detrás de él sin pensar ni remotamente si le sería posible salir\n"
          ]
        }
      ]
    },
    {
      "cell_type": "markdown",
      "metadata": {
        "id": "mCeMWWupxN1-"
      },
      "source": [
        "## Generación de secuencias"
      ]
    },
    {
      "cell_type": "code",
      "execution_count": 21,
      "metadata": {
        "id": "zsF72_--sdV1"
      },
      "outputs": [],
      "source": [
        "input_text='alicia se metio '"
      ]
    },
    {
      "cell_type": "code",
      "execution_count": 24,
      "metadata": {
        "colab": {
          "base_uri": "https://localhost:8080/"
        },
        "id": "JoFqRC5pxzqS",
        "outputId": "986a9b05-7091-4cc8-bb3f-2c46ddfa1d9f"
      },
      "outputs": [
        {
          "output_type": "stream",
          "name": "stdout",
          "text": [
            "Modelo Simple RNN: alicia se metio al conejo blanco de \n"
          ]
        }
      ],
      "source": [
        "print(f'Modelo Simple RNN: {generate_seq(model_simpleRNN, input_text, max_length=max_context_size, n_words=20)}')"
      ]
    },
    {
      "cell_type": "code",
      "source": [
        "print(f'Modelo LSTM: {generate_seq(model_LSTM, input_text, max_length=max_context_size, n_words=20)}')"
      ],
      "metadata": {
        "id": "V-rkudEPqCPE",
        "colab": {
          "base_uri": "https://localhost:8080/"
        },
        "outputId": "95cf731b-61ba-4cfc-9a77-d38188212239"
      },
      "execution_count": 52,
      "outputs": [
        {
          "output_type": "stream",
          "name": "stdout",
          "text": [
            "Modelo LSTM: alicia se metio de la cabeza de la c\n"
          ]
        }
      ]
    },
    {
      "cell_type": "code",
      "source": [
        "print(f'Modelo GRU: {generate_seq(model_GRU, input_text, max_length=max_context_size, n_words=20)}')"
      ],
      "metadata": {
        "id": "L8DPaRtYqByZ",
        "colab": {
          "base_uri": "https://localhost:8080/"
        },
        "outputId": "f48f0971-318b-4568-fcc3-b2223d78dc9f"
      },
      "execution_count": 58,
      "outputs": [
        {
          "output_type": "stream",
          "name": "stdout",
          "text": [
            "Modelo GRU: alicia se metio de la cabeza de la c\n"
          ]
        }
      ]
    },
    {
      "cell_type": "markdown",
      "metadata": {
        "id": "drJ6xn5qW1Hl"
      },
      "source": [
        "###  Beam search y muestreo aleatorio"
      ]
    },
    {
      "cell_type": "markdown",
      "metadata": {
        "id": "U0S1bgfKoGLx"
      },
      "source": [
        "La temperatura (temp) es un parámetro clave en el beam search estocástico (sto) que controla la aleatoriedad en la selección de tokens.\n",
        "\n",
        "Efecto de la Temperatura\n",
        "\n",
        "temp → 0: Se vuelve más determinista, eligiendo casi siempre el token con mayor probabilidad.\n",
        "\n",
        "Si temp = 0, el softmax generaría una distribución en la que el token más probable tiene peso 1, lo que equivale a una selección completamente determinista.\n",
        "\n",
        "temp = 1: Mantiene la distribución de probabilidades original sin alteraciones.\n",
        "\n",
        "temp > 1: Hace que la distribución sea más plana, aumentando la exploración (incluso tokens con menor probabilidad pueden ser elegidos).\n",
        "\n",
        "temp → ∞: Se convierte en una selección casi uniforme, donde todos los tokens tienen una probabilidad similar de ser elegidos."
      ]
    },
    {
      "cell_type": "markdown",
      "source": [
        "#### Temperatura = 0.01"
      ],
      "metadata": {
        "id": "0jDynahwqXRA"
      }
    },
    {
      "cell_type": "code",
      "source": [
        "# predicción con beam search\n",
        "print ('Temperatura=0.01')"
      ],
      "metadata": {
        "id": "7y6fmABaqUYv",
        "colab": {
          "base_uri": "https://localhost:8080/"
        },
        "outputId": "9b08c531-39b3-45ff-ebbc-dbfd41a2e884"
      },
      "execution_count": 25,
      "outputs": [
        {
          "output_type": "stream",
          "name": "stdout",
          "text": [
            "Temperatura=0.01\n"
          ]
        }
      ]
    },
    {
      "cell_type": "code",
      "execution_count": 26,
      "metadata": {
        "colab": {
          "base_uri": "https://localhost:8080/"
        },
        "id": "GeLqAoOYW1Hm",
        "outputId": "675280f8-8bb7-4b66-8e41-7ec99fbc81d3"
      },
      "outputs": [
        {
          "output_type": "stream",
          "name": "stdout",
          "text": [
            "Modelo Simple RNN: alicia se metio al conejo blanco de \n"
          ]
        }
      ],
      "source": [
        "salidas = beam_search(model_simpleRNN,num_beams=10,num_words=20,input=input_text,max_length=max_context_size,temp=0.01,mode='sto')\n",
        "print(f'Modelo Simple RNN: {decode(salidas[0])}')"
      ]
    },
    {
      "cell_type": "code",
      "source": [
        "salidas = beam_search(model_LSTM,num_beams=10,num_words=20,input=input_text,max_length=max_context_size,temp=0.01,mode='sto')\n",
        "print(f'Modelo LSTM: {decode(salidas[0])}')"
      ],
      "metadata": {
        "id": "jjWzwaqUqKWz",
        "colab": {
          "base_uri": "https://localhost:8080/"
        },
        "outputId": "f328bed2-1218-4ba2-9e83-8b053e93940d"
      },
      "execution_count": 51,
      "outputs": [
        {
          "output_type": "stream",
          "name": "stdout",
          "text": [
            "Modelo LSTM: alicia se metio de la cabeza de la c\n"
          ]
        }
      ]
    },
    {
      "cell_type": "code",
      "source": [
        "salidas = beam_search(model_GRU,num_beams=10,num_words=20,input=input_text,max_length=max_context_size,temp=0.01,mode='sto')\n",
        "print(f'Modelo GRU: {decode(salidas[0])}')"
      ],
      "metadata": {
        "id": "sJ43oe0_qJqi",
        "colab": {
          "base_uri": "https://localhost:8080/"
        },
        "outputId": "61c43029-e4a7-4507-929c-9f2e6ce0e8ae"
      },
      "execution_count": 59,
      "outputs": [
        {
          "output_type": "stream",
          "name": "stdout",
          "text": [
            "Modelo GRU: alicia se metio de la cabeza de la c\n"
          ]
        }
      ]
    },
    {
      "cell_type": "markdown",
      "source": [
        "#### Temperatura = 0.5"
      ],
      "metadata": {
        "id": "kImagPmTqdiV"
      }
    },
    {
      "cell_type": "code",
      "source": [
        "# predicción con beam search\n",
        "print ('Temperatura=0.5')"
      ],
      "metadata": {
        "id": "RlGA4adDqjKR",
        "colab": {
          "base_uri": "https://localhost:8080/"
        },
        "outputId": "68c4f968-f90f-4060-c57d-46fb3cb42b10"
      },
      "execution_count": 27,
      "outputs": [
        {
          "output_type": "stream",
          "name": "stdout",
          "text": [
            "Temperatura=0.5\n"
          ]
        }
      ]
    },
    {
      "cell_type": "code",
      "execution_count": 28,
      "metadata": {
        "colab": {
          "base_uri": "https://localhost:8080/"
        },
        "id": "jJJsMeD5bTSz",
        "outputId": "4e983033-9bf2-439b-b9c6-299267223d1c"
      },
      "outputs": [
        {
          "output_type": "stream",
          "name": "stdout",
          "text": [
            "Modelo Simple RNN: alicia se metio que no había que el \n"
          ]
        }
      ],
      "source": [
        "salidas = beam_search(model_simpleRNN,num_beams=10,num_words=20,input=input_text,max_length=max_context_size,temp=0.5,mode='sto')\n",
        "print(f'Modelo Simple RNN: {decode(salidas[0])}')"
      ]
    },
    {
      "cell_type": "code",
      "source": [
        "salidas = beam_search(model_LSTM,num_beams=10,num_words=20,input=input_text,max_length=max_context_size,temp=0.5,mode='sto')\n",
        "print(f'Modelo LSTM: {decode(salidas[0])}')"
      ],
      "metadata": {
        "id": "FE0No74gqqBh",
        "colab": {
          "base_uri": "https://localhost:8080/"
        },
        "outputId": "7096fb55-88aa-44a6-f7b8-3aff4f4887d0"
      },
      "execution_count": 48,
      "outputs": [
        {
          "output_type": "stream",
          "name": "stdout",
          "text": [
            "Modelo LSTM: alicia se metio de la cabeza de la d\n"
          ]
        }
      ]
    },
    {
      "cell_type": "code",
      "source": [
        "salidas = beam_search(model_GRU,num_beams=10,num_words=20,input=input_text,max_length=max_context_size,temp=0.5,mode='sto')\n",
        "print(f'Modelo GRU: {decode(salidas[0])}')"
      ],
      "metadata": {
        "id": "vLF4dpMeqm9e",
        "colab": {
          "base_uri": "https://localhost:8080/"
        },
        "outputId": "a06df510-e000-45fe-da61-1d1b90f57cee"
      },
      "execution_count": 64,
      "outputs": [
        {
          "output_type": "stream",
          "name": "stdout",
          "text": [
            "Modelo GRU: alicia se metio de la cabeza de la b\n"
          ]
        }
      ]
    },
    {
      "cell_type": "markdown",
      "source": [
        "#### Temperatura = 1"
      ],
      "metadata": {
        "id": "k9WAIwoRqnTp"
      }
    },
    {
      "cell_type": "code",
      "source": [
        "# predicción con beam search\n",
        "print ('Temperatura=1')"
      ],
      "metadata": {
        "id": "mU1HKJRsq456",
        "colab": {
          "base_uri": "https://localhost:8080/"
        },
        "outputId": "2f4df08d-7b3a-4e7d-98c7-7006ad8ca711"
      },
      "execution_count": 29,
      "outputs": [
        {
          "output_type": "stream",
          "name": "stdout",
          "text": [
            "Temperatura=1\n"
          ]
        }
      ]
    },
    {
      "cell_type": "code",
      "source": [
        "salidas = beam_search(model_simpleRNN,num_beams=10,num_words=20,input=input_text,max_length=max_context_size,temp=1,mode='sto')\n",
        "print(f'Modelo Simple RNN: {decode(salidas[0])}')"
      ],
      "metadata": {
        "id": "lOoznLNyq72l",
        "colab": {
          "base_uri": "https://localhost:8080/"
        },
        "outputId": "d0371b99-e0e3-4d7b-ba18-d0b8a6f0f1ea"
      },
      "execution_count": 30,
      "outputs": [
        {
          "output_type": "stream",
          "name": "stdout",
          "text": [
            "Modelo Simple RNN: alicia se metio que había una manera\n"
          ]
        }
      ]
    },
    {
      "cell_type": "code",
      "execution_count": 47,
      "metadata": {
        "id": "IMcxe19KbaC5",
        "colab": {
          "base_uri": "https://localhost:8080/"
        },
        "outputId": "8c04d49d-11a0-4330-a881-0f76245efd99"
      },
      "outputs": [
        {
          "output_type": "stream",
          "name": "stdout",
          "text": [
            "Modelo LSTM: alicia se metio de la cabeza que la \n"
          ]
        }
      ],
      "source": [
        "salidas = beam_search(model_LSTM,num_beams=10,num_words=20,input=input_text,max_length=max_context_size,temp=1,mode='sto')\n",
        "print(f'Modelo LSTM: {decode(salidas[0])}')"
      ]
    },
    {
      "cell_type": "code",
      "source": [
        "salidas = beam_search(model_GRU,num_beams=10,num_words=20,input=input_text,max_length=max_context_size,temp=1,mode='sto')\n",
        "print(f'Modelo GRU: {decode(salidas[0])}')"
      ],
      "metadata": {
        "id": "z4LBhaATq9bd",
        "colab": {
          "base_uri": "https://localhost:8080/"
        },
        "outputId": "f827731b-7014-41a0-9b7e-26161f47b6b4"
      },
      "execution_count": 65,
      "outputs": [
        {
          "output_type": "stream",
          "name": "stdout",
          "text": [
            "Modelo GRU: alicia se metio como es que se lo mu\n"
          ]
        }
      ]
    },
    {
      "cell_type": "markdown",
      "source": [
        "#### Temperatura = 1.5"
      ],
      "metadata": {
        "id": "tU-v1j_Yq9_a"
      }
    },
    {
      "cell_type": "code",
      "source": [
        "# predicción con beam search\n",
        "print ('Temperatura=1.5')"
      ],
      "metadata": {
        "id": "SZY1CX7TrYW3",
        "colab": {
          "base_uri": "https://localhost:8080/"
        },
        "outputId": "6ad205d0-b6b0-4508-fdae-7f7344c397c5"
      },
      "execution_count": 31,
      "outputs": [
        {
          "output_type": "stream",
          "name": "stdout",
          "text": [
            "Temperatura=1.5\n"
          ]
        }
      ]
    },
    {
      "cell_type": "code",
      "execution_count": 32,
      "metadata": {
        "id": "siQN3EAOn_8e",
        "colab": {
          "base_uri": "https://localhost:8080/"
        },
        "outputId": "84d52d3f-9bc2-47e5-f4f9-8c732c9833e4"
      },
      "outputs": [
        {
          "output_type": "stream",
          "name": "stdout",
          "text": [
            "Modelo Simple RNN: alicia se metio por su volvió a alic\n"
          ]
        }
      ],
      "source": [
        "salidas = beam_search(model_simpleRNN,num_beams=10,num_words=20,input=input_text,max_length=max_context_size,temp=1.5,mode='sto')\n",
        "print(f'Modelo Simple RNN: {decode(salidas[0])}')"
      ]
    },
    {
      "cell_type": "code",
      "source": [
        "salidas = beam_search(model_LSTM,num_beams=10,num_words=20,input=input_text,max_length=max_context_size,temp=1.5,mode='sto')\n",
        "print(f'Modelo LSTM: {decode(salidas[0])}')"
      ],
      "metadata": {
        "id": "iERmDgx4rVSA",
        "colab": {
          "base_uri": "https://localhost:8080/"
        },
        "outputId": "574a7d72-ecfe-4e9e-ceb7-7f3e0fa2e26a"
      },
      "execution_count": 46,
      "outputs": [
        {
          "output_type": "stream",
          "name": "stdout",
          "text": [
            "Modelo LSTM: alicia se metio como en la verdadeto\n"
          ]
        }
      ]
    },
    {
      "cell_type": "code",
      "source": [
        "salidas = beam_search(model_GRU,num_beams=10,num_words=20,input=input_text,max_length=max_context_size,temp=1.5,mode='sto')\n",
        "print(f'Modelo GRU: {decode(salidas[0])}')"
      ],
      "metadata": {
        "id": "KOTAttv9rNu4",
        "colab": {
          "base_uri": "https://localhost:8080/"
        },
        "outputId": "445d7329-2702-479a-e624-ee244d57e957"
      },
      "execution_count": 62,
      "outputs": [
        {
          "output_type": "stream",
          "name": "stdout",
          "text": [
            "Modelo GRU: alicia se metio una palabr\n"
          ]
        }
      ]
    },
    {
      "cell_type": "markdown",
      "source": [
        "#### Determinista"
      ],
      "metadata": {
        "id": "lTCxfWkFrOSo"
      }
    },
    {
      "cell_type": "code",
      "source": [
        "# predicción con beam search\n",
        "print ('Determinista')"
      ],
      "metadata": {
        "id": "ReZm9l3Brbxp",
        "colab": {
          "base_uri": "https://localhost:8080/"
        },
        "outputId": "a1ee9943-1349-498d-f260-f6112c9ba2f6"
      },
      "execution_count": 33,
      "outputs": [
        {
          "output_type": "stream",
          "name": "stdout",
          "text": [
            "Determinista\n"
          ]
        }
      ]
    },
    {
      "cell_type": "code",
      "execution_count": 34,
      "metadata": {
        "id": "FcM5PbChm_z7",
        "colab": {
          "base_uri": "https://localhost:8080/"
        },
        "outputId": "8722eb21-7948-4c82-cfbe-5afd78bea03f"
      },
      "outputs": [
        {
          "output_type": "stream",
          "name": "stdout",
          "text": [
            "Modelo Simple RNN: alicia se metio alicia, que no había\n"
          ]
        }
      ],
      "source": [
        "salidas = beam_search(model_simpleRNN,num_beams=10,num_words=20,input=input_text,max_length=max_context_size,mode='det')\n",
        "print(f'Modelo Simple RNN: {decode(salidas[0])}')"
      ]
    },
    {
      "cell_type": "code",
      "source": [
        "salidas = beam_search(model_LSTM,num_beams=10,num_words=20,input=input_text,max_length=max_context_size,temp=1,mode='det')\n",
        "print(f'Modelo LSTM: {decode(salidas[0])}')"
      ],
      "metadata": {
        "id": "wlWgPqDdriXP",
        "colab": {
          "base_uri": "https://localhost:8080/"
        },
        "outputId": "d059febf-93d5-4876-c5a9-3b7ec4d7230c"
      },
      "execution_count": 50,
      "outputs": [
        {
          "output_type": "stream",
          "name": "stdout",
          "text": [
            "Modelo LSTM: alicia se metio que lo que había de \n"
          ]
        }
      ]
    },
    {
      "cell_type": "code",
      "source": [
        "salidas = beam_search(model_GRU,num_beams=10,num_words=20,input=input_text,max_length=max_context_size,temp=1,mode='det')\n",
        "print(f'Modelo GRU: {decode(salidas[0])}')"
      ],
      "metadata": {
        "id": "-4HOBU40rdgj",
        "colab": {
          "base_uri": "https://localhost:8080/"
        },
        "outputId": "6754bdc9-a456-4a18-9afd-f23836bb0e4d"
      },
      "execution_count": 66,
      "outputs": [
        {
          "output_type": "stream",
          "name": "stdout",
          "text": [
            "Modelo GRU: alicia se metio de la cabeza que no \n"
          ]
        }
      ]
    },
    {
      "cell_type": "markdown",
      "source": [
        "## Conclusiones Generales"
      ],
      "metadata": {
        "id": "I2xibgSgsFQw"
      }
    }
  ],
  "metadata": {
    "accelerator": "GPU",
    "colab": {
      "collapsed_sections": [
        "Ez4yHOkmsdVW",
        "xTvXlEKQZdqx",
        "tnnjdAQ5UAEJ",
        "XIFFHFGzsdVl",
        "VWaovhiosdVw",
        "uArhgKwzsdVy"
      ],
      "gpuType": "T4",
      "provenance": []
    },
    "kernelspec": {
      "display_name": "ceia_nlp1",
      "language": "python",
      "name": "python3"
    },
    "language_info": {
      "codemirror_mode": {
        "name": "ipython",
        "version": 3
      },
      "file_extension": ".py",
      "mimetype": "text/x-python",
      "name": "python",
      "nbconvert_exporter": "python",
      "pygments_lexer": "ipython3",
      "version": "3.11.11"
    }
  },
  "nbformat": 4,
  "nbformat_minor": 0
}