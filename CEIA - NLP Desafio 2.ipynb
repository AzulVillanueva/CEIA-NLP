{
 "cells": [
  {
   "cell_type": "markdown",
   "metadata": {
    "id": "sZd5yLnnHOK0"
   },
   "source": [
    "# CEIA - NLP Desafío N°2\n",
    "## Villanueva Cecilia Azul\n",
    "\n",
    "\n"
   ]
  },
  {
   "cell_type": "markdown",
   "metadata": {
    "id": "vA7nqkumo9z9"
   },
   "source": [
    "### Librerías"
   ]
  },
  {
   "cell_type": "code",
   "execution_count": 39,
   "metadata": {
    "id": "lFToQs5FK5uZ"
   },
   "outputs": [],
   "source": [
    "import pandas as pd\n",
    "import numpy as np    \n",
    "\n",
    "import nltk\n",
    "from nltk.corpus import gutenberg\n",
    "from nltk.tokenize import sent_tokenize\n",
    "from nltk.corpus import stopwords\n",
    "\n",
    "import multiprocessing\n",
    "from gensim.models import Word2Vec\n",
    "from gensim.models.callbacks import CallbackAny2Vec\n",
    "\n",
    "import matplotlib.pyplot as plt\n",
    "import seaborn as sns\n",
    "\n",
    "from sklearn.decomposition import IncrementalPCA    \n",
    "from sklearn.manifold import TSNE    \n",
    "\n",
    "import plotly.graph_objects as go\n",
    "import plotly.express as px\n"
   ]
  },
  {
   "cell_type": "markdown",
   "metadata": {},
   "source": [
    "### Enunciado"
   ]
  },
  {
   "cell_type": "markdown",
   "metadata": {},
   "source": [
    "- Crear sus propios vectores con Gensim basado en lo visto en clase con otro dataset.\n",
    "- Probar términos de interés y explicar similitudes en el espacio de embeddings (sacar conclusiones entre palabras similitudes y diferencias).\n",
    "- Graficarlos.\n",
    "- Obtener conclusiones."
   ]
  },
  {
   "cell_type": "markdown",
   "metadata": {},
   "source": [
    "### Datos y Preprocesamiento"
   ]
  },
  {
   "cell_type": "code",
   "execution_count": 40,
   "metadata": {},
   "outputs": [
    {
     "name": "stderr",
     "output_type": "stream",
     "text": [
      "[nltk_data] Downloading package gutenberg to\n",
      "[nltk_data]     C:\\Users\\Admin\\AppData\\Roaming\\nltk_data...\n",
      "[nltk_data]   Package gutenberg is already up-to-date!\n",
      "[nltk_data] Downloading package punkt to\n",
      "[nltk_data]     C:\\Users\\Admin\\AppData\\Roaming\\nltk_data...\n",
      "[nltk_data]   Package punkt is already up-to-date!\n",
      "[nltk_data] Downloading package punkt_tab to\n",
      "[nltk_data]     C:\\Users\\Admin\\AppData\\Roaming\\nltk_data...\n",
      "[nltk_data]   Package punkt_tab is already up-to-date!\n"
     ]
    },
    {
     "data": {
      "text/plain": [
       "True"
      ]
     },
     "execution_count": 40,
     "metadata": {},
     "output_type": "execute_result"
    }
   ],
   "source": [
    "nltk.download('gutenberg')\n",
    "nltk.download('punkt')  # Necesario para el tokenizador de oraciones\n",
    "nltk.download('punkt_tab')"
   ]
  },
  {
   "cell_type": "markdown",
   "metadata": {},
   "source": [
    "Consulto todos los textos que están disponibles en el corpus de Gutenberg."
   ]
  },
  {
   "cell_type": "code",
   "execution_count": 41,
   "metadata": {},
   "outputs": [
    {
     "name": "stdout",
     "output_type": "stream",
     "text": [
      "['austen-emma.txt', 'austen-persuasion.txt', 'austen-sense.txt', 'bible-kjv.txt', 'blake-poems.txt', 'bryant-stories.txt', 'burgess-busterbrown.txt', 'carroll-alice.txt', 'chesterton-ball.txt', 'chesterton-brown.txt', 'chesterton-thursday.txt', 'edgeworth-parents.txt', 'melville-moby_dick.txt', 'milton-paradise.txt', 'shakespeare-caesar.txt', 'shakespeare-hamlet.txt', 'shakespeare-macbeth.txt', 'whitman-leaves.txt']\n"
     ]
    }
   ],
   "source": [
    "available_texts = gutenberg.fileids()\n",
    "print(available_texts)"
   ]
  },
  {
   "cell_type": "markdown",
   "metadata": {},
   "source": [
    "Selecciono **Alice's Adventures in Wonderland de Lewis Carroll**,es una novela fantástica que narra la historia de Alicia, una niña que sigue a un conejo blanco con un reloj en su bolsillo y acaba cayendo por un agujero en el suelo, lo que la lleva a un mundo mágico y surrealista lleno de personajes extraños"
   ]
  },
  {
   "cell_type": "code",
   "execution_count": 42,
   "metadata": {},
   "outputs": [
    {
     "data": {
      "text/plain": [
       "[['alice', 's', 'adventures', 'in', 'wonderland', 'by', 'lewis', 'carroll'],\n",
       " ['chapter', 'i'],\n",
       " ['down', 'the', 'rabbit', 'hole']]"
      ]
     },
     "execution_count": 42,
     "metadata": {},
     "output_type": "execute_result"
    }
   ],
   "source": [
    "# Obtener las oraciones del texto de Moby Dick\n",
    "sentences = gutenberg.sents(\"carroll-alice.txt\")\n",
    "\n",
    "# Tokenizar en oraciones\n",
    "sentences_tk = [[word.lower() for word in sent if word.isalpha()] for sent in sentences]\n",
    "\n",
    "sentences_tk[:3]"
   ]
  },
  {
   "cell_type": "code",
   "execution_count": 43,
   "metadata": {
    "id": "LEpKubK9XzXN"
   },
   "outputs": [
    {
     "name": "stdout",
     "output_type": "stream",
     "text": [
      "Cantidad de documentos: 1703\n"
     ]
    }
   ],
   "source": [
    "print(\"Cantidad de documentos:\", len(sentences_tk))"
   ]
  },
  {
   "cell_type": "markdown",
   "metadata": {
    "id": "BaXV6nlHr5Aa"
   },
   "source": [
    "###  Word2vec"
   ]
  },
  {
   "cell_type": "code",
   "execution_count": 44,
   "metadata": {
    "id": "OSb0v7h8r7hK"
   },
   "outputs": [],
   "source": [
    "\n",
    "# Durante el entrenamiento gensim por defecto no informa el \"loss\" en cada época\n",
    "# Sobrecargamos el callback para poder tener esta información\n",
    "\n",
    "class callback(CallbackAny2Vec):\n",
    "    \"\"\"\n",
    "    Callback to print loss after each epoch\n",
    "    \"\"\"\n",
    "    def __init__(self):\n",
    "        self.epoch = 0\n",
    "\n",
    "    def on_epoch_end(self, model):\n",
    "        loss = model.get_latest_training_loss()\n",
    "        if self.epoch == 0:\n",
    "            print('Loss after epoch {}: {}'.format(self.epoch, loss))\n",
    "        else:\n",
    "            print('Loss after epoch {}: {}'.format(self.epoch, loss- self.loss_previous_step))\n",
    "        self.epoch += 1\n",
    "        self.loss_previous_step = loss"
   ]
  },
  {
   "cell_type": "code",
   "execution_count": 45,
   "metadata": {
    "id": "i0wnDdv9sJ47"
   },
   "outputs": [],
   "source": [
    "# Crearmos el modelo generador de vectores\n",
    "# En este caso utilizaremos la estructura modelo Skipgram\n",
    "w2v_model = Word2Vec(min_count=5,    # frecuencia mínima de palabra para incluirla en el vocabulario\n",
    "                     window=2,       # cant de palabras antes y desp de la predicha\n",
    "                     vector_size=300,# dimensionalidad de los vectores \n",
    "                     negative=20,    # cantidad de negative samples... 0 es no se usa\n",
    "                     workers=4,      # si tienen más cores pueden cambiar este valor\n",
    "                     sg=1)           # modelo 0:CBOW  1:skipgram"
   ]
  },
  {
   "cell_type": "code",
   "execution_count": 46,
   "metadata": {
    "id": "5lTt8wErsf17"
   },
   "outputs": [],
   "source": [
    "# Obtener el vocabulario con los tokens\n",
    "w2v_model.build_vocab(sentences_tk)"
   ]
  },
  {
   "cell_type": "code",
   "execution_count": 47,
   "metadata": {
    "id": "TNc9qt4os5AT"
   },
   "outputs": [
    {
     "name": "stdout",
     "output_type": "stream",
     "text": [
      "Cantidad de docs en el corpus: 1703\n"
     ]
    }
   ],
   "source": [
    "# Cantidad de filas/docs encontradas en el corpus\n",
    "print(\"Cantidad de docs en el corpus:\", w2v_model.corpus_count)"
   ]
  },
  {
   "cell_type": "code",
   "execution_count": 48,
   "metadata": {
    "id": "idw9cHF3tSMl"
   },
   "outputs": [
    {
     "name": "stdout",
     "output_type": "stream",
     "text": [
      "Cantidad de words distintas en el corpus: 687\n"
     ]
    }
   ],
   "source": [
    "# Cantidad de words encontradas en el corpus\n",
    "print(\"Cantidad de words distintas en el corpus:\", len(w2v_model.wv.index_to_key))"
   ]
  },
  {
   "cell_type": "markdown",
   "metadata": {
    "id": "fC9mZ8DPk-UC"
   },
   "source": [
    "### Entrenar embeddings"
   ]
  },
  {
   "cell_type": "code",
   "execution_count": 49,
   "metadata": {
    "id": "QSp-x0PAsq56"
   },
   "outputs": [
    {
     "name": "stdout",
     "output_type": "stream",
     "text": [
      "Loss after epoch 0: 84207.53125\n",
      "Loss after epoch 1: 58511.765625\n",
      "Loss after epoch 2: 59441.203125\n",
      "Loss after epoch 3: 59071.671875\n",
      "Loss after epoch 4: 58065.890625\n",
      "Loss after epoch 5: 59363.59375\n",
      "Loss after epoch 6: 40704.53125\n",
      "Loss after epoch 7: 58337.5\n",
      "Loss after epoch 8: 55754.625\n",
      "Loss after epoch 9: 39616.625\n",
      "Loss after epoch 10: 54386.0\n",
      "Loss after epoch 11: 53701.9375\n",
      "Loss after epoch 12: 55099.9375\n",
      "Loss after epoch 13: 53326.875\n",
      "Loss after epoch 14: 52009.125\n",
      "Loss after epoch 15: 51625.9375\n",
      "Loss after epoch 16: 50593.25\n",
      "Loss after epoch 17: 34161.5625\n",
      "Loss after epoch 18: 35369.625\n",
      "Loss after epoch 19: 48760.3125\n",
      "Loss after epoch 20: 45292.375\n",
      "Loss after epoch 21: 31264.125\n",
      "Loss after epoch 22: 45839.125\n",
      "Loss after epoch 23: 45121.375\n",
      "Loss after epoch 24: 43661.75\n",
      "Loss after epoch 25: 43559.125\n",
      "Loss after epoch 26: 43159.125\n",
      "Loss after epoch 27: 43413.0\n",
      "Loss after epoch 28: 43546.125\n",
      "Loss after epoch 29: 42997.5\n",
      "Loss after epoch 30: 41760.5\n",
      "Loss after epoch 31: 42842.375\n",
      "Loss after epoch 32: 42314.0\n",
      "Loss after epoch 33: 42236.125\n",
      "Loss after epoch 34: 42306.625\n",
      "Loss after epoch 35: 41988.625\n",
      "Loss after epoch 36: 42446.875\n",
      "Loss after epoch 37: 42191.125\n",
      "Loss after epoch 38: 41739.125\n",
      "Loss after epoch 39: 41406.125\n",
      "Loss after epoch 40: 41171.25\n",
      "Loss after epoch 41: 40994.5\n",
      "Loss after epoch 42: 41491.375\n",
      "Loss after epoch 43: 40524.0\n",
      "Loss after epoch 44: 39931.0\n",
      "Loss after epoch 45: 38997.25\n",
      "Loss after epoch 46: 38479.5\n",
      "Loss after epoch 47: 37767.75\n",
      "Loss after epoch 48: 38740.25\n",
      "Loss after epoch 49: 37848.25\n",
      "Loss after epoch 50: 38644.0\n",
      "Loss after epoch 51: 38356.25\n",
      "Loss after epoch 52: 37254.0\n",
      "Loss after epoch 53: 38216.0\n",
      "Loss after epoch 54: 37532.5\n",
      "Loss after epoch 55: 37496.25\n",
      "Loss after epoch 56: 36889.5\n",
      "Loss after epoch 57: 37559.5\n",
      "Loss after epoch 58: 36637.25\n",
      "Loss after epoch 59: 37699.75\n",
      "Loss after epoch 60: 36931.5\n",
      "Loss after epoch 61: 36908.75\n",
      "Loss after epoch 62: 36966.5\n",
      "Loss after epoch 63: 36185.25\n",
      "Loss after epoch 64: 37449.75\n",
      "Loss after epoch 65: 37065.75\n",
      "Loss after epoch 66: 36428.0\n",
      "Loss after epoch 67: 26180.0\n",
      "Loss after epoch 68: 36756.0\n",
      "Loss after epoch 69: 26165.0\n",
      "Loss after epoch 70: 36543.25\n",
      "Loss after epoch 71: 37309.75\n",
      "Loss after epoch 72: 36844.75\n",
      "Loss after epoch 73: 36330.25\n",
      "Loss after epoch 74: 25616.25\n",
      "Loss after epoch 75: 36423.0\n",
      "Loss after epoch 76: 36897.0\n",
      "Loss after epoch 77: 36187.0\n",
      "Loss after epoch 78: 25041.25\n",
      "Loss after epoch 79: 37551.5\n",
      "Loss after epoch 80: 37012.0\n",
      "Loss after epoch 81: 36043.0\n",
      "Loss after epoch 82: 36562.0\n",
      "Loss after epoch 83: 36039.25\n",
      "Loss after epoch 84: 36096.75\n",
      "Loss after epoch 85: 36657.75\n",
      "Loss after epoch 86: 36770.75\n",
      "Loss after epoch 87: 36150.5\n",
      "Loss after epoch 88: 35869.5\n",
      "Loss after epoch 89: 24616.5\n",
      "Loss after epoch 90: 35666.75\n",
      "Loss after epoch 91: 35755.25\n",
      "Loss after epoch 92: 35345.25\n",
      "Loss after epoch 93: 36468.75\n",
      "Loss after epoch 94: 36053.25\n",
      "Loss after epoch 95: 36143.25\n",
      "Loss after epoch 96: 25089.0\n",
      "Loss after epoch 97: 35469.25\n",
      "Loss after epoch 98: 25155.0\n",
      "Loss after epoch 99: 35483.5\n"
     ]
    },
    {
     "data": {
      "text/plain": [
       "(1553930, 2733300)"
      ]
     },
     "execution_count": 49,
     "metadata": {},
     "output_type": "execute_result"
    }
   ],
   "source": [
    "# Entrenamos el modelo generador de vectores\n",
    "# Utilizamos nuestro callback\n",
    "w2v_model.train(sentences_tk,\n",
    "                 total_examples=w2v_model.corpus_count,\n",
    "                 epochs=100,\n",
    "                 compute_loss = True,\n",
    "                 callbacks=[callback()],\n",
    "                 )"
   ]
  },
  {
   "cell_type": "markdown",
   "metadata": {
    "id": "ddT9NVuNlCAe"
   },
   "source": [
    "### Analisis de similaridad de palabras"
   ]
  },
  {
   "cell_type": "markdown",
   "metadata": {},
   "source": [
    "Selecciono palabras de interés (según las más frecuentes en el libro) para analizar con cuáles se relacionan más (o menos)"
   ]
  },
  {
   "cell_type": "code",
   "execution_count": null,
   "metadata": {},
   "outputs": [
    {
     "name": "stdout",
     "output_type": "stream",
     "text": [
      "['said', 'alice', 'little', 'one', 'know', 'like', 'would', 'went', 'could', 'queen', 'thought', 'time', 'see', 'well', 'king', 'turtle', 'began', 'mock', 'way', 'hatter', 'quite', 'gryphon', 'think', 'rabbit', 'say']\n"
     ]
    }
   ],
   "source": [
    "stop_words = set(stopwords.words('english'))\n",
    "\n",
    "# Palabras mas frecuentes\n",
    "top_words = w2v_model.wv.index_to_key\n",
    "\n",
    "# Filtro stopwords de las palabras mas frecuentes\n",
    "filtered_top_words = [word for word in top_words if word not in stop_words]\n",
    "\n",
    "print(filtered_top_words[:25])\t\n"
   ]
  },
  {
   "cell_type": "markdown",
   "metadata": {},
   "source": [
    "Palabras más similares:"
   ]
  },
  {
   "cell_type": "code",
   "execution_count": 51,
   "metadata": {},
   "outputs": [
    {
     "name": "stdout",
     "output_type": "stream",
     "text": [
      "Most similar to 'alice':\n",
      "[('she', 0.438062846660614), ('slowly', 0.34670165181159973), ('politely', 0.3410396873950958), ('dare', 0.33107230067253113), ('feeling', 0.3297099769115448)]\n",
      "\n",
      "\n",
      "Most similar to 'queen':\n",
      "[('reply', 0.4364963471889496), ('ear', 0.403495192527771), ('top', 0.40073999762535095), ('hearts', 0.379926860332489), ('exclaimed', 0.36524277925491333)]\n",
      "\n",
      "\n",
      "Most similar to 'time':\n",
      "[('minutes', 0.456287145614624), ('silence', 0.41208967566490173), ('rest', 0.4016607701778412), ('clock', 0.38771218061447144), ('speaking', 0.3818735182285309)]\n",
      "\n",
      "\n",
      "Most similar to 'rabbit':\n",
      "[('kid', 0.5864681005477905), ('white', 0.543060839176178), ('chorus', 0.44006937742233276), ('himself', 0.43324965238571167), ('trembling', 0.4202815890312195)]\n",
      "\n",
      "\n"
     ]
    }
   ],
   "source": [
    "#se configura palabra claves  en el espacio de embeddings\n",
    "words_of_interest = [\"alice\", \"queen\", \"time\", \"rabbit\"]\n",
    "\n",
    "for word in words_of_interest:\n",
    "    print(f\"Most similar to '{word}':\")\n",
    "    print(w2v_model.wv.most_similar(word, topn=5))\n",
    "    print(\"\\n\")\n"
   ]
  },
  {
   "cell_type": "markdown",
   "metadata": {},
   "source": [
    "Palabras menos similares:"
   ]
  },
  {
   "cell_type": "code",
   "execution_count": null,
   "metadata": {},
   "outputs": [
    {
     "name": "stdout",
     "output_type": "stream",
     "text": [
      "Least similar to 'alice':\n",
      "[('wow', 0.021753162145614624), ('will', -0.012397035956382751), ('among', -0.01427757740020752), ('heads', -0.028268881142139435), ('cut', -0.03530262038111687)]\n",
      "\n",
      "\n",
      "Least similar to 'queen':\n",
      "[('wow', 0.07792161405086517), ('larger', 0.01226002536714077), ('timidly', -0.009457527659833431), ('remember', -0.010450463742017746), ('sort', -0.015757063403725624)]\n",
      "\n",
      "\n",
      "Least similar to 'time':\n",
      "[('makes', 0.03729119896888733), ('wow', 0.013288663700222969), ('watch', 0.012097852304577827), ('replied', 0.009812556207180023), ('key', -0.004337225575000048)]\n",
      "\n",
      "\n",
      "Least similar to 'rabbit':\n",
      "[('day', 0.03199528902769089), ('would', -0.0010914934100583196), ('life', -0.01835947483778), ('my', -0.018631357699632645), ('puzzled', -0.019626185297966003)]\n",
      "\n",
      "\n"
     ]
    }
   ],
   "source": [
    "for word in words_of_interest:\n",
    "    print(f\"Least similar to '{word}':\")\n",
    "    print(w2v_model.wv.most_similar(negative=word, topn=5))\n",
    "    print(\"\\n\")"
   ]
  },
  {
   "cell_type": "markdown",
   "metadata": {},
   "source": [
    "Si bien se observan palabras cuya relacion tiene sentido en el libro : rabbit - white  / time - minutes  / time - clock / queen - hearts también se puede ver que hay palabras que no están relacionadas con las seleccionadas. Esto tiene sentido porque como contexto se seleccionaron sólo 2 palabras antes y despues de las palabras leidas por el modelo."
   ]
  },
  {
   "cell_type": "markdown",
   "metadata": {
    "id": "_g8UVWe6lFmh"
   },
   "source": [
    "### Visualizar agrupación de vectores"
   ]
  },
  {
   "cell_type": "code",
   "execution_count": 53,
   "metadata": {
    "id": "pDxEVXAivjr9"
   },
   "outputs": [],
   "source": [
    "def reduce_dimensions(model, num_dimensions = 2 ):\n",
    "     \n",
    "    vectors = np.asarray(model.wv.vectors)\n",
    "    labels = np.asarray(model.wv.index_to_key)  \n",
    "\n",
    "    tsne = TSNE(n_components=num_dimensions, random_state=0)\n",
    "    vectors = tsne.fit_transform(vectors)\n",
    "\n",
    "    return vectors, labels"
   ]
  },
  {
   "cell_type": "code",
   "execution_count": 56,
   "metadata": {
    "id": "NCCXtDpcugmd"
   },
   "outputs": [
    {
     "data": {
      "application/vnd.plotly.v1+json": {
       "config": {
        "plotlyServerURL": "https://plot.ly"
       },
       "data": [
        {
         "hovertemplate": "x=%{x}<br>y=%{y}<br>text=%{text}<extra></extra>",
         "legendgroup": "",
         "marker": {
          "color": "#636efa",
          "symbol": "circle"
         },
         "mode": "markers+text",
         "name": "",
         "orientation": "v",
         "showlegend": false,
         "text": [
          "the",
          "and",
          "to",
          "a",
          "it",
          "she",
          "i",
          "of",
          "said",
          "you",
          "alice",
          "in",
          "was",
          "that",
          "as",
          "her",
          "t",
          "at",
          "s",
          "on",
          "all",
          "with",
          "had",
          "but",
          "for",
          "they",
          "so",
          "be",
          "not",
          "very",
          "what",
          "this",
          "little",
          "he",
          "out",
          "is",
          "one",
          "down",
          "up",
          "there",
          "his",
          "if",
          "then",
          "about",
          "no",
          "know",
          "them",
          "were",
          "like",
          "herself",
          "would",
          "went",
          "again",
          "do",
          "have",
          "when",
          "could",
          "or",
          "queen",
          "thought",
          "off",
          "time",
          "me",
          "how",
          "into",
          "see",
          "m",
          "who",
          "well",
          "did",
          "can",
          "king",
          "your",
          "don",
          "now",
          "by",
          "turtle",
          "began",
          "my",
          "its",
          "an",
          "ll",
          "mock",
          "way",
          "hatter",
          "quite",
          "gryphon",
          "are",
          "think",
          "their",
          "just",
          "some",
          "rabbit",
          "say",
          "much",
          "here",
          "first",
          "go",
          "only",
          "head"
         ],
         "type": "scatter",
         "x": {
          "bdata": "Pa4Rvhj7Hr5STNQ+FMZ/PS0K1z7huIQ+MgmsPxg5oL1kRpo+dD2vP+Yf1j5QuQ++iKa0Pftdyz6gjSM9agW/vREazz9F40g9dc/RPQyz5r6554w+Q2XRvqDcCD7QiN4+HIvYPa1NL79Gfos+/RJgPzmrJUDuUPc+xzMlP74sTj6LcDu9E+ixv+6OUb+8m4U+FpeVvMUknsDpUYA/t4grP00QwL8XJGU/njkGP+fyTkCHpok/MSvmPxLGZEA+Cl/Alag2PxiPED8Rpog/07SMwPzVhcBnWSxAXvkxQFu9K0C+i6g/oj+AQCIsMsBnAmk/kUXZv8zrpz/1mZI/h6BAQI1fK8DtZxlAg4O+PwxO277371RAz3kRQKR9DkC3Smq+EhUwv0NFzz8/ObM/wcoVwPijksDufmvA8HaLP+1J+b8NqlPACK+qP1NfksDRTJE+BjAVQA1PGD+4skfAfuXsv5soIkCXksi/UkxRQPlsu7/D6nrAtMqEQDHPUz/f6UhAOfFePmmT5j/I/j3Ax12Ivw==",
          "dtype": "f4"
         },
         "xaxis": "x",
         "y": {
          "bdata": "zNuoPmeZaj5OvI09rOCXPvIdVj2I+ss+hsO1vyLizz6pJ5W9Pfm1v8v/bz7ExAA/KQD9PqdZ+T3Zzqw9fq5nP5y9RcBfbZY+N3a+PlSbQT6IukM9xDi5PoFsBz+p5/49/5EdPj4pmL+wx2c+jA/zvmMhAL6g5iY/QdfSvbZp9T0JXhA/EPOjv49oocDjSmO/oJOhPULpzj6eUWJAahUTPrXJrz1M5TO+RNi/PpfpeMAfjps+wwv6v27K8T/cyp6/lljWvoFnCD/HRzO/60H5P/pyI0D9jdO/kbTpvwzHZ0AUWa8+t+DwP3cUAUCUsX8/1jXsPicBiEB2yaC/7K4Vv5eMBb198Ta/t4pmwDaEkkAqsGc+1fJNvhWUSMB0eBDAIetcwOZdTMBY5ko/DJAuQD5Xa8CYSCFAabGbv2vyEz9xggtAeTXIv5Qha8DL7z2/ZgV/QFQV+j8TBD0/3ponwNQEZb8lrc6/5UBLQPCKisAncAfAyB8EvMj4b7/2xGrA0DvHvchDKcAZak9ACwO5Pw==",
          "dtype": "f4"
         },
         "yaxis": "y"
        }
       ],
       "layout": {
        "legend": {
         "tracegroupgap": 0
        },
        "margin": {
         "t": 60
        },
        "template": {
         "data": {
          "bar": [
           {
            "error_x": {
             "color": "#2a3f5f"
            },
            "error_y": {
             "color": "#2a3f5f"
            },
            "marker": {
             "line": {
              "color": "#E5ECF6",
              "width": 0.5
             },
             "pattern": {
              "fillmode": "overlay",
              "size": 10,
              "solidity": 0.2
             }
            },
            "type": "bar"
           }
          ],
          "barpolar": [
           {
            "marker": {
             "line": {
              "color": "#E5ECF6",
              "width": 0.5
             },
             "pattern": {
              "fillmode": "overlay",
              "size": 10,
              "solidity": 0.2
             }
            },
            "type": "barpolar"
           }
          ],
          "carpet": [
           {
            "aaxis": {
             "endlinecolor": "#2a3f5f",
             "gridcolor": "white",
             "linecolor": "white",
             "minorgridcolor": "white",
             "startlinecolor": "#2a3f5f"
            },
            "baxis": {
             "endlinecolor": "#2a3f5f",
             "gridcolor": "white",
             "linecolor": "white",
             "minorgridcolor": "white",
             "startlinecolor": "#2a3f5f"
            },
            "type": "carpet"
           }
          ],
          "choropleth": [
           {
            "colorbar": {
             "outlinewidth": 0,
             "ticks": ""
            },
            "type": "choropleth"
           }
          ],
          "contour": [
           {
            "colorbar": {
             "outlinewidth": 0,
             "ticks": ""
            },
            "colorscale": [
             [
              0,
              "#0d0887"
             ],
             [
              0.1111111111111111,
              "#46039f"
             ],
             [
              0.2222222222222222,
              "#7201a8"
             ],
             [
              0.3333333333333333,
              "#9c179e"
             ],
             [
              0.4444444444444444,
              "#bd3786"
             ],
             [
              0.5555555555555556,
              "#d8576b"
             ],
             [
              0.6666666666666666,
              "#ed7953"
             ],
             [
              0.7777777777777778,
              "#fb9f3a"
             ],
             [
              0.8888888888888888,
              "#fdca26"
             ],
             [
              1,
              "#f0f921"
             ]
            ],
            "type": "contour"
           }
          ],
          "contourcarpet": [
           {
            "colorbar": {
             "outlinewidth": 0,
             "ticks": ""
            },
            "type": "contourcarpet"
           }
          ],
          "heatmap": [
           {
            "colorbar": {
             "outlinewidth": 0,
             "ticks": ""
            },
            "colorscale": [
             [
              0,
              "#0d0887"
             ],
             [
              0.1111111111111111,
              "#46039f"
             ],
             [
              0.2222222222222222,
              "#7201a8"
             ],
             [
              0.3333333333333333,
              "#9c179e"
             ],
             [
              0.4444444444444444,
              "#bd3786"
             ],
             [
              0.5555555555555556,
              "#d8576b"
             ],
             [
              0.6666666666666666,
              "#ed7953"
             ],
             [
              0.7777777777777778,
              "#fb9f3a"
             ],
             [
              0.8888888888888888,
              "#fdca26"
             ],
             [
              1,
              "#f0f921"
             ]
            ],
            "type": "heatmap"
           }
          ],
          "histogram": [
           {
            "marker": {
             "pattern": {
              "fillmode": "overlay",
              "size": 10,
              "solidity": 0.2
             }
            },
            "type": "histogram"
           }
          ],
          "histogram2d": [
           {
            "colorbar": {
             "outlinewidth": 0,
             "ticks": ""
            },
            "colorscale": [
             [
              0,
              "#0d0887"
             ],
             [
              0.1111111111111111,
              "#46039f"
             ],
             [
              0.2222222222222222,
              "#7201a8"
             ],
             [
              0.3333333333333333,
              "#9c179e"
             ],
             [
              0.4444444444444444,
              "#bd3786"
             ],
             [
              0.5555555555555556,
              "#d8576b"
             ],
             [
              0.6666666666666666,
              "#ed7953"
             ],
             [
              0.7777777777777778,
              "#fb9f3a"
             ],
             [
              0.8888888888888888,
              "#fdca26"
             ],
             [
              1,
              "#f0f921"
             ]
            ],
            "type": "histogram2d"
           }
          ],
          "histogram2dcontour": [
           {
            "colorbar": {
             "outlinewidth": 0,
             "ticks": ""
            },
            "colorscale": [
             [
              0,
              "#0d0887"
             ],
             [
              0.1111111111111111,
              "#46039f"
             ],
             [
              0.2222222222222222,
              "#7201a8"
             ],
             [
              0.3333333333333333,
              "#9c179e"
             ],
             [
              0.4444444444444444,
              "#bd3786"
             ],
             [
              0.5555555555555556,
              "#d8576b"
             ],
             [
              0.6666666666666666,
              "#ed7953"
             ],
             [
              0.7777777777777778,
              "#fb9f3a"
             ],
             [
              0.8888888888888888,
              "#fdca26"
             ],
             [
              1,
              "#f0f921"
             ]
            ],
            "type": "histogram2dcontour"
           }
          ],
          "mesh3d": [
           {
            "colorbar": {
             "outlinewidth": 0,
             "ticks": ""
            },
            "type": "mesh3d"
           }
          ],
          "parcoords": [
           {
            "line": {
             "colorbar": {
              "outlinewidth": 0,
              "ticks": ""
             }
            },
            "type": "parcoords"
           }
          ],
          "pie": [
           {
            "automargin": true,
            "type": "pie"
           }
          ],
          "scatter": [
           {
            "fillpattern": {
             "fillmode": "overlay",
             "size": 10,
             "solidity": 0.2
            },
            "type": "scatter"
           }
          ],
          "scatter3d": [
           {
            "line": {
             "colorbar": {
              "outlinewidth": 0,
              "ticks": ""
             }
            },
            "marker": {
             "colorbar": {
              "outlinewidth": 0,
              "ticks": ""
             }
            },
            "type": "scatter3d"
           }
          ],
          "scattercarpet": [
           {
            "marker": {
             "colorbar": {
              "outlinewidth": 0,
              "ticks": ""
             }
            },
            "type": "scattercarpet"
           }
          ],
          "scattergeo": [
           {
            "marker": {
             "colorbar": {
              "outlinewidth": 0,
              "ticks": ""
             }
            },
            "type": "scattergeo"
           }
          ],
          "scattergl": [
           {
            "marker": {
             "colorbar": {
              "outlinewidth": 0,
              "ticks": ""
             }
            },
            "type": "scattergl"
           }
          ],
          "scattermap": [
           {
            "marker": {
             "colorbar": {
              "outlinewidth": 0,
              "ticks": ""
             }
            },
            "type": "scattermap"
           }
          ],
          "scattermapbox": [
           {
            "marker": {
             "colorbar": {
              "outlinewidth": 0,
              "ticks": ""
             }
            },
            "type": "scattermapbox"
           }
          ],
          "scatterpolar": [
           {
            "marker": {
             "colorbar": {
              "outlinewidth": 0,
              "ticks": ""
             }
            },
            "type": "scatterpolar"
           }
          ],
          "scatterpolargl": [
           {
            "marker": {
             "colorbar": {
              "outlinewidth": 0,
              "ticks": ""
             }
            },
            "type": "scatterpolargl"
           }
          ],
          "scatterternary": [
           {
            "marker": {
             "colorbar": {
              "outlinewidth": 0,
              "ticks": ""
             }
            },
            "type": "scatterternary"
           }
          ],
          "surface": [
           {
            "colorbar": {
             "outlinewidth": 0,
             "ticks": ""
            },
            "colorscale": [
             [
              0,
              "#0d0887"
             ],
             [
              0.1111111111111111,
              "#46039f"
             ],
             [
              0.2222222222222222,
              "#7201a8"
             ],
             [
              0.3333333333333333,
              "#9c179e"
             ],
             [
              0.4444444444444444,
              "#bd3786"
             ],
             [
              0.5555555555555556,
              "#d8576b"
             ],
             [
              0.6666666666666666,
              "#ed7953"
             ],
             [
              0.7777777777777778,
              "#fb9f3a"
             ],
             [
              0.8888888888888888,
              "#fdca26"
             ],
             [
              1,
              "#f0f921"
             ]
            ],
            "type": "surface"
           }
          ],
          "table": [
           {
            "cells": {
             "fill": {
              "color": "#EBF0F8"
             },
             "line": {
              "color": "white"
             }
            },
            "header": {
             "fill": {
              "color": "#C8D4E3"
             },
             "line": {
              "color": "white"
             }
            },
            "type": "table"
           }
          ]
         },
         "layout": {
          "annotationdefaults": {
           "arrowcolor": "#2a3f5f",
           "arrowhead": 0,
           "arrowwidth": 1
          },
          "autotypenumbers": "strict",
          "coloraxis": {
           "colorbar": {
            "outlinewidth": 0,
            "ticks": ""
           }
          },
          "colorscale": {
           "diverging": [
            [
             0,
             "#8e0152"
            ],
            [
             0.1,
             "#c51b7d"
            ],
            [
             0.2,
             "#de77ae"
            ],
            [
             0.3,
             "#f1b6da"
            ],
            [
             0.4,
             "#fde0ef"
            ],
            [
             0.5,
             "#f7f7f7"
            ],
            [
             0.6,
             "#e6f5d0"
            ],
            [
             0.7,
             "#b8e186"
            ],
            [
             0.8,
             "#7fbc41"
            ],
            [
             0.9,
             "#4d9221"
            ],
            [
             1,
             "#276419"
            ]
           ],
           "sequential": [
            [
             0,
             "#0d0887"
            ],
            [
             0.1111111111111111,
             "#46039f"
            ],
            [
             0.2222222222222222,
             "#7201a8"
            ],
            [
             0.3333333333333333,
             "#9c179e"
            ],
            [
             0.4444444444444444,
             "#bd3786"
            ],
            [
             0.5555555555555556,
             "#d8576b"
            ],
            [
             0.6666666666666666,
             "#ed7953"
            ],
            [
             0.7777777777777778,
             "#fb9f3a"
            ],
            [
             0.8888888888888888,
             "#fdca26"
            ],
            [
             1,
             "#f0f921"
            ]
           ],
           "sequentialminus": [
            [
             0,
             "#0d0887"
            ],
            [
             0.1111111111111111,
             "#46039f"
            ],
            [
             0.2222222222222222,
             "#7201a8"
            ],
            [
             0.3333333333333333,
             "#9c179e"
            ],
            [
             0.4444444444444444,
             "#bd3786"
            ],
            [
             0.5555555555555556,
             "#d8576b"
            ],
            [
             0.6666666666666666,
             "#ed7953"
            ],
            [
             0.7777777777777778,
             "#fb9f3a"
            ],
            [
             0.8888888888888888,
             "#fdca26"
            ],
            [
             1,
             "#f0f921"
            ]
           ]
          },
          "colorway": [
           "#636efa",
           "#EF553B",
           "#00cc96",
           "#ab63fa",
           "#FFA15A",
           "#19d3f3",
           "#FF6692",
           "#B6E880",
           "#FF97FF",
           "#FECB52"
          ],
          "font": {
           "color": "#2a3f5f"
          },
          "geo": {
           "bgcolor": "white",
           "lakecolor": "white",
           "landcolor": "#E5ECF6",
           "showlakes": true,
           "showland": true,
           "subunitcolor": "white"
          },
          "hoverlabel": {
           "align": "left"
          },
          "hovermode": "closest",
          "mapbox": {
           "style": "light"
          },
          "paper_bgcolor": "white",
          "plot_bgcolor": "#E5ECF6",
          "polar": {
           "angularaxis": {
            "gridcolor": "white",
            "linecolor": "white",
            "ticks": ""
           },
           "bgcolor": "#E5ECF6",
           "radialaxis": {
            "gridcolor": "white",
            "linecolor": "white",
            "ticks": ""
           }
          },
          "scene": {
           "xaxis": {
            "backgroundcolor": "#E5ECF6",
            "gridcolor": "white",
            "gridwidth": 2,
            "linecolor": "white",
            "showbackground": true,
            "ticks": "",
            "zerolinecolor": "white"
           },
           "yaxis": {
            "backgroundcolor": "#E5ECF6",
            "gridcolor": "white",
            "gridwidth": 2,
            "linecolor": "white",
            "showbackground": true,
            "ticks": "",
            "zerolinecolor": "white"
           },
           "zaxis": {
            "backgroundcolor": "#E5ECF6",
            "gridcolor": "white",
            "gridwidth": 2,
            "linecolor": "white",
            "showbackground": true,
            "ticks": "",
            "zerolinecolor": "white"
           }
          },
          "shapedefaults": {
           "line": {
            "color": "#2a3f5f"
           }
          },
          "ternary": {
           "aaxis": {
            "gridcolor": "white",
            "linecolor": "white",
            "ticks": ""
           },
           "baxis": {
            "gridcolor": "white",
            "linecolor": "white",
            "ticks": ""
           },
           "bgcolor": "#E5ECF6",
           "caxis": {
            "gridcolor": "white",
            "linecolor": "white",
            "ticks": ""
           }
          },
          "title": {
           "x": 0.05
          },
          "xaxis": {
           "automargin": true,
           "gridcolor": "white",
           "linecolor": "white",
           "ticks": "",
           "title": {
            "standoff": 15
           },
           "zerolinecolor": "white",
           "zerolinewidth": 2
          },
          "yaxis": {
           "automargin": true,
           "gridcolor": "white",
           "linecolor": "white",
           "ticks": "",
           "title": {
            "standoff": 15
           },
           "zerolinecolor": "white",
           "zerolinewidth": 2
          }
         }
        },
        "xaxis": {
         "anchor": "y",
         "domain": [
          0,
          1
         ],
         "title": {
          "text": "x"
         }
        },
        "yaxis": {
         "anchor": "x",
         "domain": [
          0,
          1
         ],
         "title": {
          "text": "y"
         }
        }
       }
      }
     },
     "metadata": {},
     "output_type": "display_data"
    }
   ],
   "source": [
    "vecs, labels = reduce_dimensions(w2v_model)\n",
    "\n",
    "MAX_WORDS=100\n",
    "\n",
    "fig = px.scatter(x=vecs[:MAX_WORDS,0], y=vecs[:MAX_WORDS,1], text=labels[:MAX_WORDS])\n",
    "fig.show() "
   ]
  },
  {
   "cell_type": "code",
   "execution_count": 55,
   "metadata": {},
   "outputs": [
    {
     "data": {
      "application/vnd.plotly.v1+json": {
       "config": {
        "plotlyServerURL": "https://plot.ly"
       },
       "data": [
        {
         "hovertemplate": "x=%{x}<br>y=%{y}<br>z=%{z}<br>text=%{text}<extra></extra>",
         "legendgroup": "",
         "marker": {
          "color": "#636efa",
          "size": 2,
          "symbol": "circle"
         },
         "mode": "markers+text",
         "name": "",
         "scene": "scene",
         "showlegend": false,
         "text": [
          "the",
          "and",
          "to",
          "a",
          "it",
          "she",
          "i",
          "of",
          "said",
          "you",
          "alice",
          "in",
          "was",
          "that",
          "as",
          "her",
          "t",
          "at",
          "s",
          "on",
          "all",
          "with",
          "had",
          "but",
          "for",
          "they",
          "so",
          "be",
          "not",
          "very",
          "what",
          "this",
          "little",
          "he",
          "out",
          "is",
          "one",
          "down",
          "up",
          "there",
          "his",
          "if",
          "then",
          "about",
          "no",
          "know",
          "them",
          "were",
          "like",
          "herself",
          "would",
          "went",
          "again",
          "do",
          "have",
          "when",
          "could",
          "or",
          "queen",
          "thought",
          "off",
          "time",
          "me",
          "how",
          "into",
          "see",
          "m",
          "who",
          "well",
          "did",
          "can",
          "king",
          "your",
          "don",
          "now",
          "by",
          "turtle",
          "began",
          "my",
          "its",
          "an",
          "ll",
          "mock",
          "way",
          "hatter",
          "quite",
          "gryphon",
          "are",
          "think",
          "their",
          "just",
          "some",
          "rabbit",
          "say",
          "much",
          "here",
          "first",
          "go",
          "only",
          "head",
          "thing",
          "which",
          "more",
          "voice",
          "never",
          "get",
          "come",
          "looked",
          "oh",
          "got",
          "must",
          "mouse",
          "ve",
          "him",
          "after",
          "duchess",
          "round",
          "such",
          "came",
          "dormouse",
          "why",
          "tone",
          "other",
          "over",
          "two",
          "any",
          "great",
          "back",
          "been",
          "re",
          "before",
          "cat",
          "from",
          "we",
          "nothing",
          "march",
          "once",
          "large",
          "last",
          "will",
          "looking",
          "long",
          "found",
          "tell",
          "right",
          "put",
          "moment",
          "hare",
          "things",
          "made",
          "next",
          "white",
          "heard",
          "door",
          "replied",
          "day",
          "d",
          "eyes",
          "dear",
          "look",
          "might",
          "three",
          "caterpillar",
          "good",
          "going",
          "make",
          "should",
          "seemed",
          "poor",
          "without",
          "upon",
          "too",
          "course",
          "won",
          "soon",
          "yet",
          "while",
          "rather",
          "shall",
          "away",
          "than",
          "sure",
          "same",
          "took",
          "felt",
          "added",
          "half",
          "jury",
          "let",
          "take",
          "getting",
          "another",
          "words",
          "ever",
          "minute",
          "find",
          "wish",
          "till",
          "hand",
          "sort"
         ],
         "type": "scatter3d",
         "x": {
          "bdata": "VHYAPKpaecFktVfAxARhwelVEj7N5anBwuQlQsglj8GrlVVAqmgjQrdORsG3Dp6/SJ6Lwc44IMGh3YfCRV9qwrT+WEI+q9nBRxIMQi24tcE2U0LCf7CLwm0jdsJbO1zCMxPXv2PA4sESkDHCexEVQt3cm8IA+grCvHwnwvS+IEDICZLCj8j1QScFQMEnoulBROI0wvq/3kGwVIVCzvm8v4NEakLotE9CqQxkwqM0bMIMjcFBVH0nQvaA8MDicTHCVkAFwnZviMGNyT7AoDyJwfvtdb87nvVBitS0QYljzEHC6brBi4M8QhrRjcKqaF/C3uMXwjsyCUER+u9B2gk0wr4aosKPgeDB0G9gQoVOY8HqTdjBJj6ewnplm0EVl05CiTJOQva/WEL62hVC3kuUQQf7mEFhjulBSGn4QMb07MCjmV3A+S3mQa0UskFVsIfBOduoQhz0gMJIM5ZBnkA8Qp7NdkAGxefBo36oQqohbELsEW/BlpOUwlEGqUCe+gxCywmVQYinaELX6udAfq5eQm7LOkGbZSTBmnJTQjNMn8BC6QHC9yVRQpgeAkJdnH7Cf39jQqg8a8GZCPBAih0uwrkxXEGQTY7CceyJwuWqnEHKZVTAG9W5wW9PVMKdoZVA+5uUwtRMeEFb8c9B/Kk1wt+WdMLsurLBrKDswVquN0BeZA1CNRXGQfqaqMKE6NhBsIMqQUz7hkJ1USrCH0YmQqCmh8GSslHBY+MBwr3FhUIvPVHCliquwHh/BD9DlsRBs3atQZEdS0IhC/bBc6UTQhq7oUGwV9TBKyxrQAMIgcET6GLCdw0rwiblOMFJSpNCTBlQQk9+18GmXjFCVfT9QVleqUA5AXfCurgIQqkaZ8JIHH1CLNwYQs/YOUJ82j7CBp3gv8qcREGJyXbBNDw6wLJBxUHWW5lC6kYEwmeKnUK6SRDCqpyUwYHok0KdVEXA/OEoQn2/c8CmSp7CMcxTwrkEGcL/9DHCjraOQEfzUsFFuZZB2dNvQh/2Y0E01C3CrNWqwhMadMGVEIPCCaYWwhwNBkLVzjdCKW4vwSXNVcE=",
          "dtype": "f4"
         },
         "y": {
          "bdata": "q+8vQjgSkUEEOPm/A9iOwB3CGUFJSX9BAzyEQOSqCkFALkHBLId0QaApJcGkuQZAx8jdPmKVF0Hv2oE+MPkfQR8R30BAz4W/PxsKwokigULGbpxBVYcjwhPSQMF0L5k/VoCZQvoRfkGSEApCcnwfQtL4LsDAb5XCY1X3wX2GSkIimvdAxsKAQj7cekLPUtnBV6yTQiKKOkLW7OhB4fgdPyZxWcGCnyXC7AkXwqw+k0F0mrvAtCjJQVPqm0Lb6FJC7MoXQixCQcEjFz5Cmrf5wRWJCcGdh1VBk6D0QR0ioUKpALdBjLOMQpa1csGyEHhCq88TQWZZR0L6wDLBqCNWQpSRAEILmG9CHnLZwQKtMEIwiUZC/uSXwUCHWEGfJQlCNGkLwvkP+z64NGTC9v8awS/nP8I6SYTC4SdrQgMlnkDGimLCXANtQt8LJ8KJBYVCYNUpwSXS1kGgDTRBsUkeQivKKkEwp8xBZgejQLViUEJUT1LBtxHtwQT7YEJJBKVBu915Qm9c3EHnIq5Cg3RXwqa7vUDp36zBWDfeQT4KGsEf01vCmeZMQjuFMsKLd0xCegf5wVN7hcLW67xBdGEZwrhVX8ILwwLBQuEmQmabMMJy4S1CueuoQFuYxsHajSBB67YmQqkE+sHOpZPCYCZzQq4+DkL3ohDCRd1dwvqHmEKQNIZBjwxLQtMxfUHsgL/Acy90Qqa2LUJYk17Cp1JIwgtvB0JZEJdCtvdvwpRoQkFnUcLBYh0JwkvCrUJt4q3Bd6RbQkp1UUK+REVAlANIwtnXDEJIuZFCftBQQuLvZsHuQ03COTWAQTSwY8LstARCJ8RNQXA97kCTMg7CFrGUQpT+L8J5i+dBsT61QZhJVsJHjlNCczozQsCidEAbHS1BO4SSQiYfZ8LagLlBNYJMwvq7K0KzuyJBTtrXwZXv2MA8JBW/W/GWwqvp5sEqQslB6UE+v3LKnkBxF41Bccw7wDfK5MGPmRi/JtCOwlkOG0JOSERCHlkRwFOs28HrRAlCaYC2wJ3PqUFtIDFB0EIawjz/H0LjXRtCVUBdQqXETEI=",
          "dtype": "f4"
         },
         "z": {
          "bdata": "P9u0Qt4me0GvO2dBamoKQL1XE0GObspBS88TQgnJW0DBgQBBQ+gKQpsVZUHIeGbA85d1Qa9bYEH0+kBB/7XmQaFkAkKN7uVApOs+QtygPcIaRCdCYIqJwQk35UENiTFCE5wcwtVviEIZtHFCrrxrQnsX10FUcZ9BQr2BQijxhEKKCi1CUdhMwkZUUUFto5hCPQjpQEZUO8IlQSjCg5qtQjvHbMIiQjlCbPBIQmqjZUIZPadCdoQzQoEuwUAMihdBhQE5QmNNqULezgxCUJZywvJcs8Kg4CtCGkliQiBoX8ET6RhCJ7+zwWL3OEJaxsBBpPWWwqadrsFBH4BC+ycwQst5j0AF3EFC9QP+QdXgkcIPvvBBQYV1QdZInUJ4pmTBaOykwTHxLkFhETlCwJmkwiIZIMITKhHCfC0zQlRuz8GVeGnCq/UkQiDBEcLVfwlC3Nk/P5mJH0IPiI7CVzXzwd+VU0L7oqtAtcG5QSl1FMJaUn/CR94CQignzkGNA3LAUjrXwMIZokHIdodBwj/5wZh5LMC5PKBB1mt+QjqQtcHJUVBCCTfGQbGGeUID449Am8RJQSG+P0Ly0ghC+ocWOwcQI0FONlzCbh4FwlnChsINZQjCcJVWQkUa08ECqG/CY8WsQTNDs8GBRwBCYtriwLcgScJ9pWFCE36QwebFN0LXb4FC95ScQE+sncHotohB6apSwhVLckFf0CtBJW47wp5oYMLAs5HB5m45wtJ9ucG2FXTCqEndQQu1NsHe601CTK5xQopOdcELi6RCKhtUwv7/k0L+Y/jBX7USQYz6mMLVLeHB01tkwoO8ksHkqU/AjIZSQu0/DMIZYatBg0xwQXiXtEEVa1e/qB2OwuD2zL9tMwPAYABLQWYxlELBGZFCODzTQdFV3UEC+Z7CdalMQu+tgsIvm5i//aSQwp1v+cFVWWnCzjjjwaBYzEDl4IHC0CRgQn9QIUIYdMJBs1tCwo8M2EGKJfVBjFMjwgETkkLEHuJBCsgRwkTbf0L2/mPCQakHQKQypELagLzBC7syQrPBEELmdXDCxvNTQgpHuEE=",
          "dtype": "f4"
         }
        }
       ],
       "layout": {
        "legend": {
         "tracegroupgap": 0
        },
        "margin": {
         "t": 60
        },
        "scene": {
         "domain": {
          "x": [
           0,
           1
          ],
          "y": [
           0,
           1
          ]
         },
         "xaxis": {
          "title": {
           "text": "x"
          }
         },
         "yaxis": {
          "title": {
           "text": "y"
          }
         },
         "zaxis": {
          "title": {
           "text": "z"
          }
         }
        },
        "template": {
         "data": {
          "bar": [
           {
            "error_x": {
             "color": "#2a3f5f"
            },
            "error_y": {
             "color": "#2a3f5f"
            },
            "marker": {
             "line": {
              "color": "#E5ECF6",
              "width": 0.5
             },
             "pattern": {
              "fillmode": "overlay",
              "size": 10,
              "solidity": 0.2
             }
            },
            "type": "bar"
           }
          ],
          "barpolar": [
           {
            "marker": {
             "line": {
              "color": "#E5ECF6",
              "width": 0.5
             },
             "pattern": {
              "fillmode": "overlay",
              "size": 10,
              "solidity": 0.2
             }
            },
            "type": "barpolar"
           }
          ],
          "carpet": [
           {
            "aaxis": {
             "endlinecolor": "#2a3f5f",
             "gridcolor": "white",
             "linecolor": "white",
             "minorgridcolor": "white",
             "startlinecolor": "#2a3f5f"
            },
            "baxis": {
             "endlinecolor": "#2a3f5f",
             "gridcolor": "white",
             "linecolor": "white",
             "minorgridcolor": "white",
             "startlinecolor": "#2a3f5f"
            },
            "type": "carpet"
           }
          ],
          "choropleth": [
           {
            "colorbar": {
             "outlinewidth": 0,
             "ticks": ""
            },
            "type": "choropleth"
           }
          ],
          "contour": [
           {
            "colorbar": {
             "outlinewidth": 0,
             "ticks": ""
            },
            "colorscale": [
             [
              0,
              "#0d0887"
             ],
             [
              0.1111111111111111,
              "#46039f"
             ],
             [
              0.2222222222222222,
              "#7201a8"
             ],
             [
              0.3333333333333333,
              "#9c179e"
             ],
             [
              0.4444444444444444,
              "#bd3786"
             ],
             [
              0.5555555555555556,
              "#d8576b"
             ],
             [
              0.6666666666666666,
              "#ed7953"
             ],
             [
              0.7777777777777778,
              "#fb9f3a"
             ],
             [
              0.8888888888888888,
              "#fdca26"
             ],
             [
              1,
              "#f0f921"
             ]
            ],
            "type": "contour"
           }
          ],
          "contourcarpet": [
           {
            "colorbar": {
             "outlinewidth": 0,
             "ticks": ""
            },
            "type": "contourcarpet"
           }
          ],
          "heatmap": [
           {
            "colorbar": {
             "outlinewidth": 0,
             "ticks": ""
            },
            "colorscale": [
             [
              0,
              "#0d0887"
             ],
             [
              0.1111111111111111,
              "#46039f"
             ],
             [
              0.2222222222222222,
              "#7201a8"
             ],
             [
              0.3333333333333333,
              "#9c179e"
             ],
             [
              0.4444444444444444,
              "#bd3786"
             ],
             [
              0.5555555555555556,
              "#d8576b"
             ],
             [
              0.6666666666666666,
              "#ed7953"
             ],
             [
              0.7777777777777778,
              "#fb9f3a"
             ],
             [
              0.8888888888888888,
              "#fdca26"
             ],
             [
              1,
              "#f0f921"
             ]
            ],
            "type": "heatmap"
           }
          ],
          "histogram": [
           {
            "marker": {
             "pattern": {
              "fillmode": "overlay",
              "size": 10,
              "solidity": 0.2
             }
            },
            "type": "histogram"
           }
          ],
          "histogram2d": [
           {
            "colorbar": {
             "outlinewidth": 0,
             "ticks": ""
            },
            "colorscale": [
             [
              0,
              "#0d0887"
             ],
             [
              0.1111111111111111,
              "#46039f"
             ],
             [
              0.2222222222222222,
              "#7201a8"
             ],
             [
              0.3333333333333333,
              "#9c179e"
             ],
             [
              0.4444444444444444,
              "#bd3786"
             ],
             [
              0.5555555555555556,
              "#d8576b"
             ],
             [
              0.6666666666666666,
              "#ed7953"
             ],
             [
              0.7777777777777778,
              "#fb9f3a"
             ],
             [
              0.8888888888888888,
              "#fdca26"
             ],
             [
              1,
              "#f0f921"
             ]
            ],
            "type": "histogram2d"
           }
          ],
          "histogram2dcontour": [
           {
            "colorbar": {
             "outlinewidth": 0,
             "ticks": ""
            },
            "colorscale": [
             [
              0,
              "#0d0887"
             ],
             [
              0.1111111111111111,
              "#46039f"
             ],
             [
              0.2222222222222222,
              "#7201a8"
             ],
             [
              0.3333333333333333,
              "#9c179e"
             ],
             [
              0.4444444444444444,
              "#bd3786"
             ],
             [
              0.5555555555555556,
              "#d8576b"
             ],
             [
              0.6666666666666666,
              "#ed7953"
             ],
             [
              0.7777777777777778,
              "#fb9f3a"
             ],
             [
              0.8888888888888888,
              "#fdca26"
             ],
             [
              1,
              "#f0f921"
             ]
            ],
            "type": "histogram2dcontour"
           }
          ],
          "mesh3d": [
           {
            "colorbar": {
             "outlinewidth": 0,
             "ticks": ""
            },
            "type": "mesh3d"
           }
          ],
          "parcoords": [
           {
            "line": {
             "colorbar": {
              "outlinewidth": 0,
              "ticks": ""
             }
            },
            "type": "parcoords"
           }
          ],
          "pie": [
           {
            "automargin": true,
            "type": "pie"
           }
          ],
          "scatter": [
           {
            "fillpattern": {
             "fillmode": "overlay",
             "size": 10,
             "solidity": 0.2
            },
            "type": "scatter"
           }
          ],
          "scatter3d": [
           {
            "line": {
             "colorbar": {
              "outlinewidth": 0,
              "ticks": ""
             }
            },
            "marker": {
             "colorbar": {
              "outlinewidth": 0,
              "ticks": ""
             }
            },
            "type": "scatter3d"
           }
          ],
          "scattercarpet": [
           {
            "marker": {
             "colorbar": {
              "outlinewidth": 0,
              "ticks": ""
             }
            },
            "type": "scattercarpet"
           }
          ],
          "scattergeo": [
           {
            "marker": {
             "colorbar": {
              "outlinewidth": 0,
              "ticks": ""
             }
            },
            "type": "scattergeo"
           }
          ],
          "scattergl": [
           {
            "marker": {
             "colorbar": {
              "outlinewidth": 0,
              "ticks": ""
             }
            },
            "type": "scattergl"
           }
          ],
          "scattermap": [
           {
            "marker": {
             "colorbar": {
              "outlinewidth": 0,
              "ticks": ""
             }
            },
            "type": "scattermap"
           }
          ],
          "scattermapbox": [
           {
            "marker": {
             "colorbar": {
              "outlinewidth": 0,
              "ticks": ""
             }
            },
            "type": "scattermapbox"
           }
          ],
          "scatterpolar": [
           {
            "marker": {
             "colorbar": {
              "outlinewidth": 0,
              "ticks": ""
             }
            },
            "type": "scatterpolar"
           }
          ],
          "scatterpolargl": [
           {
            "marker": {
             "colorbar": {
              "outlinewidth": 0,
              "ticks": ""
             }
            },
            "type": "scatterpolargl"
           }
          ],
          "scatterternary": [
           {
            "marker": {
             "colorbar": {
              "outlinewidth": 0,
              "ticks": ""
             }
            },
            "type": "scatterternary"
           }
          ],
          "surface": [
           {
            "colorbar": {
             "outlinewidth": 0,
             "ticks": ""
            },
            "colorscale": [
             [
              0,
              "#0d0887"
             ],
             [
              0.1111111111111111,
              "#46039f"
             ],
             [
              0.2222222222222222,
              "#7201a8"
             ],
             [
              0.3333333333333333,
              "#9c179e"
             ],
             [
              0.4444444444444444,
              "#bd3786"
             ],
             [
              0.5555555555555556,
              "#d8576b"
             ],
             [
              0.6666666666666666,
              "#ed7953"
             ],
             [
              0.7777777777777778,
              "#fb9f3a"
             ],
             [
              0.8888888888888888,
              "#fdca26"
             ],
             [
              1,
              "#f0f921"
             ]
            ],
            "type": "surface"
           }
          ],
          "table": [
           {
            "cells": {
             "fill": {
              "color": "#EBF0F8"
             },
             "line": {
              "color": "white"
             }
            },
            "header": {
             "fill": {
              "color": "#C8D4E3"
             },
             "line": {
              "color": "white"
             }
            },
            "type": "table"
           }
          ]
         },
         "layout": {
          "annotationdefaults": {
           "arrowcolor": "#2a3f5f",
           "arrowhead": 0,
           "arrowwidth": 1
          },
          "autotypenumbers": "strict",
          "coloraxis": {
           "colorbar": {
            "outlinewidth": 0,
            "ticks": ""
           }
          },
          "colorscale": {
           "diverging": [
            [
             0,
             "#8e0152"
            ],
            [
             0.1,
             "#c51b7d"
            ],
            [
             0.2,
             "#de77ae"
            ],
            [
             0.3,
             "#f1b6da"
            ],
            [
             0.4,
             "#fde0ef"
            ],
            [
             0.5,
             "#f7f7f7"
            ],
            [
             0.6,
             "#e6f5d0"
            ],
            [
             0.7,
             "#b8e186"
            ],
            [
             0.8,
             "#7fbc41"
            ],
            [
             0.9,
             "#4d9221"
            ],
            [
             1,
             "#276419"
            ]
           ],
           "sequential": [
            [
             0,
             "#0d0887"
            ],
            [
             0.1111111111111111,
             "#46039f"
            ],
            [
             0.2222222222222222,
             "#7201a8"
            ],
            [
             0.3333333333333333,
             "#9c179e"
            ],
            [
             0.4444444444444444,
             "#bd3786"
            ],
            [
             0.5555555555555556,
             "#d8576b"
            ],
            [
             0.6666666666666666,
             "#ed7953"
            ],
            [
             0.7777777777777778,
             "#fb9f3a"
            ],
            [
             0.8888888888888888,
             "#fdca26"
            ],
            [
             1,
             "#f0f921"
            ]
           ],
           "sequentialminus": [
            [
             0,
             "#0d0887"
            ],
            [
             0.1111111111111111,
             "#46039f"
            ],
            [
             0.2222222222222222,
             "#7201a8"
            ],
            [
             0.3333333333333333,
             "#9c179e"
            ],
            [
             0.4444444444444444,
             "#bd3786"
            ],
            [
             0.5555555555555556,
             "#d8576b"
            ],
            [
             0.6666666666666666,
             "#ed7953"
            ],
            [
             0.7777777777777778,
             "#fb9f3a"
            ],
            [
             0.8888888888888888,
             "#fdca26"
            ],
            [
             1,
             "#f0f921"
            ]
           ]
          },
          "colorway": [
           "#636efa",
           "#EF553B",
           "#00cc96",
           "#ab63fa",
           "#FFA15A",
           "#19d3f3",
           "#FF6692",
           "#B6E880",
           "#FF97FF",
           "#FECB52"
          ],
          "font": {
           "color": "#2a3f5f"
          },
          "geo": {
           "bgcolor": "white",
           "lakecolor": "white",
           "landcolor": "#E5ECF6",
           "showlakes": true,
           "showland": true,
           "subunitcolor": "white"
          },
          "hoverlabel": {
           "align": "left"
          },
          "hovermode": "closest",
          "mapbox": {
           "style": "light"
          },
          "paper_bgcolor": "white",
          "plot_bgcolor": "#E5ECF6",
          "polar": {
           "angularaxis": {
            "gridcolor": "white",
            "linecolor": "white",
            "ticks": ""
           },
           "bgcolor": "#E5ECF6",
           "radialaxis": {
            "gridcolor": "white",
            "linecolor": "white",
            "ticks": ""
           }
          },
          "scene": {
           "xaxis": {
            "backgroundcolor": "#E5ECF6",
            "gridcolor": "white",
            "gridwidth": 2,
            "linecolor": "white",
            "showbackground": true,
            "ticks": "",
            "zerolinecolor": "white"
           },
           "yaxis": {
            "backgroundcolor": "#E5ECF6",
            "gridcolor": "white",
            "gridwidth": 2,
            "linecolor": "white",
            "showbackground": true,
            "ticks": "",
            "zerolinecolor": "white"
           },
           "zaxis": {
            "backgroundcolor": "#E5ECF6",
            "gridcolor": "white",
            "gridwidth": 2,
            "linecolor": "white",
            "showbackground": true,
            "ticks": "",
            "zerolinecolor": "white"
           }
          },
          "shapedefaults": {
           "line": {
            "color": "#2a3f5f"
           }
          },
          "ternary": {
           "aaxis": {
            "gridcolor": "white",
            "linecolor": "white",
            "ticks": ""
           },
           "baxis": {
            "gridcolor": "white",
            "linecolor": "white",
            "ticks": ""
           },
           "bgcolor": "#E5ECF6",
           "caxis": {
            "gridcolor": "white",
            "linecolor": "white",
            "ticks": ""
           }
          },
          "title": {
           "x": 0.05
          },
          "xaxis": {
           "automargin": true,
           "gridcolor": "white",
           "linecolor": "white",
           "ticks": "",
           "title": {
            "standoff": 15
           },
           "zerolinecolor": "white",
           "zerolinewidth": 2
          },
          "yaxis": {
           "automargin": true,
           "gridcolor": "white",
           "linecolor": "white",
           "ticks": "",
           "title": {
            "standoff": 15
           },
           "zerolinecolor": "white",
           "zerolinewidth": 2
          }
         }
        }
       }
      }
     },
     "metadata": {},
     "output_type": "display_data"
    }
   ],
   "source": [
    "# Graficar los embedddings en 3D\n",
    "\n",
    "vecs, labels = reduce_dimensions(w2v_model,3)\n",
    "\n",
    "fig = px.scatter_3d(x=vecs[:MAX_WORDS,0], y=vecs[:MAX_WORDS,1], z=vecs[:MAX_WORDS,2],text=labels[:MAX_WORDS])\n",
    "fig.update_traces(marker_size = 2)\n",
    "fig.show() "
   ]
  },
  {
   "cell_type": "markdown",
   "metadata": {},
   "source": [
    "Podría ser beneficioso tunear distintos hiperparametros como la ventana de contexto(window), frecuencia mínima de palabra para incluirla en el vocabulario(min_count), el numero de negativos(negative), y tambien la dimensionalidad de los vectores(vector_size)."
   ]
  }
 ],
 "metadata": {
  "colab": {
   "collapsed_sections": [],
   "provenance": []
  },
  "kernelspec": {
   "display_name": "ceia_nlp1",
   "language": "python",
   "name": "python3"
  },
  "language_info": {
   "codemirror_mode": {
    "name": "ipython",
    "version": 3
   },
   "file_extension": ".py",
   "mimetype": "text/x-python",
   "name": "python",
   "nbconvert_exporter": "python",
   "pygments_lexer": "ipython3",
   "version": "3.11.11"
  }
 },
 "nbformat": 4,
 "nbformat_minor": 4
}
